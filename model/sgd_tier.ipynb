{
 "cells": [
  {
   "cell_type": "code",
   "execution_count": 153,
   "source": [
    "import numpy as np\r\n",
    "import pandas as pd\r\n",
    "import matplotlib as mpl\r\n",
    "import matplotlib.pyplot as plt\r\n",
    "import seaborn as sns"
   ],
   "outputs": [],
   "metadata": {}
  },
  {
   "cell_type": "markdown",
   "source": [
    "# Load data"
   ],
   "metadata": {}
  },
  {
   "cell_type": "code",
   "execution_count": 154,
   "source": [
    "df = pd.read_csv(r'D:\\\\PythonWorkspace\\\\gitrepo\\\\data_by_rank_v2.csv', sep=',')\r\n",
    "df.head(10)"
   ],
   "outputs": [
    {
     "output_type": "execute_result",
     "data": {
      "text/html": [
       "<div>\n",
       "<style scoped>\n",
       "    .dataframe tbody tr th:only-of-type {\n",
       "        vertical-align: middle;\n",
       "    }\n",
       "\n",
       "    .dataframe tbody tr th {\n",
       "        vertical-align: top;\n",
       "    }\n",
       "\n",
       "    .dataframe thead th {\n",
       "        text-align: right;\n",
       "    }\n",
       "</style>\n",
       "<table border=\"1\" class=\"dataframe\">\n",
       "  <thead>\n",
       "    <tr style=\"text-align: right;\">\n",
       "      <th></th>\n",
       "      <th>matchId</th>\n",
       "      <th>gameVersion</th>\n",
       "      <th>rank</th>\n",
       "      <th>player_1</th>\n",
       "      <th>player_2</th>\n",
       "      <th>player_3</th>\n",
       "      <th>player_4</th>\n",
       "      <th>player_5</th>\n",
       "      <th>bdht_1</th>\n",
       "      <th>win_1</th>\n",
       "      <th>player_6</th>\n",
       "      <th>player_7</th>\n",
       "      <th>player_8</th>\n",
       "      <th>player_9</th>\n",
       "      <th>player_10</th>\n",
       "      <th>bdht_2</th>\n",
       "      <th>win_2</th>\n",
       "    </tr>\n",
       "  </thead>\n",
       "  <tbody>\n",
       "    <tr>\n",
       "      <th>0</th>\n",
       "      <td>KR_5266752731</td>\n",
       "      <td>11.12.379.4946</td>\n",
       "      <td>DIAMOND-I</td>\n",
       "      <td>MonkeyKing, TOP, 1, 3, 3, 115</td>\n",
       "      <td>Kindred, JUNGLE, 12, 2, 10, 109</td>\n",
       "      <td>Galio, MIDDLE, 7, 2, 10, 118</td>\n",
       "      <td>MissFortune, BOTTOM, 7, 3, 8, 113</td>\n",
       "      <td>Alistar, UTILITY, 1, 1, 14, 24</td>\n",
       "      <td>0, 2, 0, 5</td>\n",
       "      <td>True</td>\n",
       "      <td>Gwen, TOP, 3, 4, 2, 117</td>\n",
       "      <td>Nidalee, JUNGLE, 4, 7, 3, 85</td>\n",
       "      <td>Pantheon, MIDDLE, 3, 4, 4, 97</td>\n",
       "      <td>Kaisa, BOTTOM, 1, 6, 2, 73</td>\n",
       "      <td>Nautilus, UTILITY, 0, 7, 2, 24</td>\n",
       "      <td>0, 0, 1, 0</td>\n",
       "      <td>False</td>\n",
       "    </tr>\n",
       "    <tr>\n",
       "      <th>1</th>\n",
       "      <td>KR_5275521774</td>\n",
       "      <td>11.12.379.4946</td>\n",
       "      <td>DIAMOND-I</td>\n",
       "      <td>Jax, TOP, 3, 6, 4, 145</td>\n",
       "      <td>Elise, JUNGLE, 12, 4, 11, 130</td>\n",
       "      <td>Ahri, MIDDLE, 8, 2, 6, 183</td>\n",
       "      <td>Draven, BOTTOM, 6, 3, 14, 157</td>\n",
       "      <td>Thresh, UTILITY, 2, 2, 20, 30</td>\n",
       "      <td>1, 0, 2, 9</td>\n",
       "      <td>True</td>\n",
       "      <td>Sett, TOP, 2, 6, 4, 146</td>\n",
       "      <td>LeeSin, JUNGLE, 5, 7, 3, 96</td>\n",
       "      <td>Katarina, MIDDLE, 5, 3, 5, 169</td>\n",
       "      <td>Senna, UTILITY, 2, 7, 6, 20</td>\n",
       "      <td>MonkeyKing, BOTTOM, 2, 8, 3, 111</td>\n",
       "      <td>0, 2, 0, 2</td>\n",
       "      <td>False</td>\n",
       "    </tr>\n",
       "    <tr>\n",
       "      <th>2</th>\n",
       "      <td>KR_5275532435</td>\n",
       "      <td>11.12.379.4946</td>\n",
       "      <td>DIAMOND-I</td>\n",
       "      <td>Jayce, TOP, 2, 7, 2, 132</td>\n",
       "      <td>Kayn, JUNGLE, 8, 6, 2, 84</td>\n",
       "      <td>Yone, MIDDLE, 1, 5, 2, 162</td>\n",
       "      <td>Varus, BOTTOM, 0, 6, 8, 102</td>\n",
       "      <td>Lulu, UTILITY, 1, 6, 4, 17</td>\n",
       "      <td>0, 0, 0, 1</td>\n",
       "      <td>False</td>\n",
       "      <td>Pantheon, TOP, 3, 3, 8, 106</td>\n",
       "      <td>Rumble, JUNGLE, 7, 2, 7, 160</td>\n",
       "      <td>Zoe, MIDDLE, 11, 1, 7, 152</td>\n",
       "      <td>KogMaw, BOTTOM, 6, 3, 8, 145</td>\n",
       "      <td>Karma, UTILITY, 3, 3, 15, 21</td>\n",
       "      <td>0, 2, 2, 7</td>\n",
       "      <td>True</td>\n",
       "    </tr>\n",
       "    <tr>\n",
       "      <th>3</th>\n",
       "      <td>KR_5282894572</td>\n",
       "      <td>11.13.382.1241</td>\n",
       "      <td>DIAMOND-I</td>\n",
       "      <td>Rumble, TOP, 8, 2, 3, 176</td>\n",
       "      <td>Viego, JUNGLE, 4, 1, 10, 117</td>\n",
       "      <td>Lucian, MIDDLE, 6, 1, 1, 211</td>\n",
       "      <td>Ezreal, BOTTOM, 4, 4, 7, 152</td>\n",
       "      <td>Karma, UTILITY, 1, 4, 10, 5</td>\n",
       "      <td>0, 1, 1, 6</td>\n",
       "      <td>True</td>\n",
       "      <td>Nocturne, TOP, 2, 5, 2, 136</td>\n",
       "      <td>Hecarim, JUNGLE, 1, 6, 6, 120</td>\n",
       "      <td>Zilean, MIDDLE, 3, 5, 2, 122</td>\n",
       "      <td>Kalista, BOTTOM, 3, 4, 7, 177</td>\n",
       "      <td>Zyra, UTILITY, 3, 3, 5, 11</td>\n",
       "      <td>0, 1, 1, 2</td>\n",
       "      <td>False</td>\n",
       "    </tr>\n",
       "    <tr>\n",
       "      <th>4</th>\n",
       "      <td>KR_5282963488</td>\n",
       "      <td>11.13.382.1241</td>\n",
       "      <td>DIAMOND-I</td>\n",
       "      <td>Jayce, TOP, 5, 9, 11, 130</td>\n",
       "      <td>Viego, JUNGLE, 9, 5, 6, 119</td>\n",
       "      <td>AurelionSol, MIDDLE, 6, 7, 5, 158</td>\n",
       "      <td>Kalista, BOTTOM, 3, 8, 7, 139</td>\n",
       "      <td>Nautilus, UTILITY, 2, 6, 12, 32</td>\n",
       "      <td>0, 2, 0, 1</td>\n",
       "      <td>False</td>\n",
       "      <td>Lucian, TOP, 10, 7, 6, 205</td>\n",
       "      <td>Nidalee, JUNGLE, 5, 2, 15, 126</td>\n",
       "      <td>Aatrox, MIDDLE, 7, 3, 1, 194</td>\n",
       "      <td>Senna, UTILITY, 12, 6, 8, 47</td>\n",
       "      <td>Maokai, BOTTOM, 1, 7, 14, 83</td>\n",
       "      <td>1, 1, 1, 8</td>\n",
       "      <td>True</td>\n",
       "    </tr>\n",
       "    <tr>\n",
       "      <th>5</th>\n",
       "      <td>KR_5282964924</td>\n",
       "      <td>11.13.382.1241</td>\n",
       "      <td>DIAMOND-I</td>\n",
       "      <td>Rumble, TOP, 9, 2, 9, 178</td>\n",
       "      <td>Karthus, JUNGLE, 9, 9, 6, 192</td>\n",
       "      <td>Yone, MIDDLE, 3, 5, 6, 160</td>\n",
       "      <td>Kalista, UTILITY, 4, 11, 4, 94</td>\n",
       "      <td>Pantheon, UTILITY, 0, 8, 8, 29</td>\n",
       "      <td>0, 0, 1, 2</td>\n",
       "      <td>False</td>\n",
       "      <td>Sett, TOP, 2, 9, 3, 90</td>\n",
       "      <td>Diana, JUNGLE, 9, 5, 7, 142</td>\n",
       "      <td>Zoe, MIDDLE, 6, 4, 6, 181</td>\n",
       "      <td>KogMaw, BOTTOM, 15, 4, 8, 186</td>\n",
       "      <td>Lulu, UTILITY, 3, 3, 20, 27</td>\n",
       "      <td>1, 4, 1, 6</td>\n",
       "      <td>True</td>\n",
       "    </tr>\n",
       "    <tr>\n",
       "      <th>6</th>\n",
       "      <td>KR_5289447024</td>\n",
       "      <td>11.13.382.1241</td>\n",
       "      <td>DIAMOND-I</td>\n",
       "      <td>Jax, TOP, 8, 5, 5, 166</td>\n",
       "      <td>Rumble, JUNGLE, 16, 4, 5, 146</td>\n",
       "      <td>Camille, MIDDLE, 4, 7, 2, 113</td>\n",
       "      <td>Senna, UTILITY, 4, 10, 11, 34</td>\n",
       "      <td>Sett, UTILITY, 1, 11, 8, 100</td>\n",
       "      <td>0, 0, 1, 3</td>\n",
       "      <td>False</td>\n",
       "      <td>Gangplank, TOP, 1, 10, 11, 143</td>\n",
       "      <td>Elise, JUNGLE, 3, 4, 5, 122</td>\n",
       "      <td>Renekton, MIDDLE, 3, 9, 6, 169</td>\n",
       "      <td>Kalista, BOTTOM, 27, 3, 8, 245</td>\n",
       "      <td>Leona, UTILITY, 2, 7, 28, 30</td>\n",
       "      <td>1, 2, 1, 8</td>\n",
       "      <td>True</td>\n",
       "    </tr>\n",
       "    <tr>\n",
       "      <th>7</th>\n",
       "      <td>KR_5291224245</td>\n",
       "      <td>11.13.382.1241</td>\n",
       "      <td>DIAMOND-I</td>\n",
       "      <td>Kled, TOP, 1, 2, 5, 90</td>\n",
       "      <td>Diana, JUNGLE, 2, 0, 5, 125</td>\n",
       "      <td>Talon, MIDDLE, 4, 1, 4, 92</td>\n",
       "      <td>Senna, UTILITY, 4, 0, 8, 15</td>\n",
       "      <td>LeeSin, BOTTOM, 5, 1, 4, 130</td>\n",
       "      <td>0, 2, 0, 3</td>\n",
       "      <td>True</td>\n",
       "      <td>Gwen, TOP, 3, 1, 0, 126</td>\n",
       "      <td>Volibear, JUNGLE, 0, 4, 0, 70</td>\n",
       "      <td>Corki, MIDDLE, 0, 5, 1, 122</td>\n",
       "      <td>Samira, BOTTOM, 0, 4, 0, 87</td>\n",
       "      <td>Zilean, UTILITY, 1, 2, 0, 8</td>\n",
       "      <td>0, 0, 1, 0</td>\n",
       "      <td>False</td>\n",
       "    </tr>\n",
       "    <tr>\n",
       "      <th>8</th>\n",
       "      <td>KR_5291403254</td>\n",
       "      <td>11.13.382.1241</td>\n",
       "      <td>DIAMOND-I</td>\n",
       "      <td>Ornn, TOP, 2, 9, 10, 170</td>\n",
       "      <td>XinZhao, JUNGLE, 7, 8, 7, 149</td>\n",
       "      <td>Viego, MIDDLE, 13, 8, 5, 153</td>\n",
       "      <td>Jinx, BOTTOM, 1, 11, 7, 179</td>\n",
       "      <td>Thresh, UTILITY, 0, 10, 8, 35</td>\n",
       "      <td>0, 0, 1, 2</td>\n",
       "      <td>False</td>\n",
       "      <td>Kled, TOP, 5, 4, 12, 151</td>\n",
       "      <td>Elise, JUNGLE, 10, 4, 8, 151</td>\n",
       "      <td>Qiyana, MIDDLE, 6, 8, 10, 182</td>\n",
       "      <td>Kaisa, BOTTOM, 22, 3, 10, 247</td>\n",
       "      <td>Rakan, UTILITY, 3, 4, 35, 38</td>\n",
       "      <td>1, 4, 1, 10</td>\n",
       "      <td>True</td>\n",
       "    </tr>\n",
       "    <tr>\n",
       "      <th>9</th>\n",
       "      <td>KR_5291453093</td>\n",
       "      <td>11.13.382.1241</td>\n",
       "      <td>DIAMOND-I</td>\n",
       "      <td>Kled, TOP, 11, 5, 10, 169</td>\n",
       "      <td>Elise, JUNGLE, 9, 4, 19, 128</td>\n",
       "      <td>Qiyana, MIDDLE, 20, 5, 9, 169</td>\n",
       "      <td>Kaisa, BOTTOM, 11, 8, 9, 162</td>\n",
       "      <td>Leona, UTILITY, 1, 5, 19, 32</td>\n",
       "      <td>0, 1, 2, 8</td>\n",
       "      <td>True</td>\n",
       "      <td>Irelia, TOP, 5, 10, 3, 158</td>\n",
       "      <td>Nidalee, JUNGLE, 7, 10, 12, 106</td>\n",
       "      <td>Katarina, MIDDLE, 6, 9, 1, 110</td>\n",
       "      <td>Samira, BOTTOM, 8, 11, 10, 143</td>\n",
       "      <td>Alistar, UTILITY, 1, 12, 11, 21</td>\n",
       "      <td>0, 1, 0, 1</td>\n",
       "      <td>False</td>\n",
       "    </tr>\n",
       "  </tbody>\n",
       "</table>\n",
       "</div>"
      ],
      "text/plain": [
       "         matchId     gameVersion       rank                       player_1  \\\n",
       "0  KR_5266752731  11.12.379.4946  DIAMOND-I  MonkeyKing, TOP, 1, 3, 3, 115   \n",
       "1  KR_5275521774  11.12.379.4946  DIAMOND-I         Jax, TOP, 3, 6, 4, 145   \n",
       "2  KR_5275532435  11.12.379.4946  DIAMOND-I       Jayce, TOP, 2, 7, 2, 132   \n",
       "3  KR_5282894572  11.13.382.1241  DIAMOND-I      Rumble, TOP, 8, 2, 3, 176   \n",
       "4  KR_5282963488  11.13.382.1241  DIAMOND-I      Jayce, TOP, 5, 9, 11, 130   \n",
       "5  KR_5282964924  11.13.382.1241  DIAMOND-I      Rumble, TOP, 9, 2, 9, 178   \n",
       "6  KR_5289447024  11.13.382.1241  DIAMOND-I         Jax, TOP, 8, 5, 5, 166   \n",
       "7  KR_5291224245  11.13.382.1241  DIAMOND-I         Kled, TOP, 1, 2, 5, 90   \n",
       "8  KR_5291403254  11.13.382.1241  DIAMOND-I       Ornn, TOP, 2, 9, 10, 170   \n",
       "9  KR_5291453093  11.13.382.1241  DIAMOND-I      Kled, TOP, 11, 5, 10, 169   \n",
       "\n",
       "                          player_2                           player_3  \\\n",
       "0  Kindred, JUNGLE, 12, 2, 10, 109       Galio, MIDDLE, 7, 2, 10, 118   \n",
       "1    Elise, JUNGLE, 12, 4, 11, 130         Ahri, MIDDLE, 8, 2, 6, 183   \n",
       "2        Kayn, JUNGLE, 8, 6, 2, 84         Yone, MIDDLE, 1, 5, 2, 162   \n",
       "3     Viego, JUNGLE, 4, 1, 10, 117       Lucian, MIDDLE, 6, 1, 1, 211   \n",
       "4      Viego, JUNGLE, 9, 5, 6, 119  AurelionSol, MIDDLE, 6, 7, 5, 158   \n",
       "5    Karthus, JUNGLE, 9, 9, 6, 192         Yone, MIDDLE, 3, 5, 6, 160   \n",
       "6    Rumble, JUNGLE, 16, 4, 5, 146      Camille, MIDDLE, 4, 7, 2, 113   \n",
       "7      Diana, JUNGLE, 2, 0, 5, 125         Talon, MIDDLE, 4, 1, 4, 92   \n",
       "8    XinZhao, JUNGLE, 7, 8, 7, 149       Viego, MIDDLE, 13, 8, 5, 153   \n",
       "9     Elise, JUNGLE, 9, 4, 19, 128      Qiyana, MIDDLE, 20, 5, 9, 169   \n",
       "\n",
       "                            player_4                         player_5  \\\n",
       "0  MissFortune, BOTTOM, 7, 3, 8, 113   Alistar, UTILITY, 1, 1, 14, 24   \n",
       "1      Draven, BOTTOM, 6, 3, 14, 157    Thresh, UTILITY, 2, 2, 20, 30   \n",
       "2        Varus, BOTTOM, 0, 6, 8, 102       Lulu, UTILITY, 1, 6, 4, 17   \n",
       "3       Ezreal, BOTTOM, 4, 4, 7, 152      Karma, UTILITY, 1, 4, 10, 5   \n",
       "4      Kalista, BOTTOM, 3, 8, 7, 139  Nautilus, UTILITY, 2, 6, 12, 32   \n",
       "5     Kalista, UTILITY, 4, 11, 4, 94   Pantheon, UTILITY, 0, 8, 8, 29   \n",
       "6      Senna, UTILITY, 4, 10, 11, 34     Sett, UTILITY, 1, 11, 8, 100   \n",
       "7        Senna, UTILITY, 4, 0, 8, 15     LeeSin, BOTTOM, 5, 1, 4, 130   \n",
       "8        Jinx, BOTTOM, 1, 11, 7, 179    Thresh, UTILITY, 0, 10, 8, 35   \n",
       "9       Kaisa, BOTTOM, 11, 8, 9, 162     Leona, UTILITY, 1, 5, 19, 32   \n",
       "\n",
       "       bdht_1  win_1                        player_6  \\\n",
       "0  0, 2, 0, 5   True         Gwen, TOP, 3, 4, 2, 117   \n",
       "1  1, 0, 2, 9   True         Sett, TOP, 2, 6, 4, 146   \n",
       "2  0, 0, 0, 1  False     Pantheon, TOP, 3, 3, 8, 106   \n",
       "3  0, 1, 1, 6   True     Nocturne, TOP, 2, 5, 2, 136   \n",
       "4  0, 2, 0, 1  False      Lucian, TOP, 10, 7, 6, 205   \n",
       "5  0, 0, 1, 2  False          Sett, TOP, 2, 9, 3, 90   \n",
       "6  0, 0, 1, 3  False  Gangplank, TOP, 1, 10, 11, 143   \n",
       "7  0, 2, 0, 3   True         Gwen, TOP, 3, 1, 0, 126   \n",
       "8  0, 0, 1, 2  False        Kled, TOP, 5, 4, 12, 151   \n",
       "9  0, 1, 2, 8   True      Irelia, TOP, 5, 10, 3, 158   \n",
       "\n",
       "                          player_7                        player_8  \\\n",
       "0     Nidalee, JUNGLE, 4, 7, 3, 85   Pantheon, MIDDLE, 3, 4, 4, 97   \n",
       "1      LeeSin, JUNGLE, 5, 7, 3, 96  Katarina, MIDDLE, 5, 3, 5, 169   \n",
       "2     Rumble, JUNGLE, 7, 2, 7, 160      Zoe, MIDDLE, 11, 1, 7, 152   \n",
       "3    Hecarim, JUNGLE, 1, 6, 6, 120    Zilean, MIDDLE, 3, 5, 2, 122   \n",
       "4   Nidalee, JUNGLE, 5, 2, 15, 126    Aatrox, MIDDLE, 7, 3, 1, 194   \n",
       "5      Diana, JUNGLE, 9, 5, 7, 142       Zoe, MIDDLE, 6, 4, 6, 181   \n",
       "6      Elise, JUNGLE, 3, 4, 5, 122  Renekton, MIDDLE, 3, 9, 6, 169   \n",
       "7    Volibear, JUNGLE, 0, 4, 0, 70     Corki, MIDDLE, 0, 5, 1, 122   \n",
       "8     Elise, JUNGLE, 10, 4, 8, 151   Qiyana, MIDDLE, 6, 8, 10, 182   \n",
       "9  Nidalee, JUNGLE, 7, 10, 12, 106  Katarina, MIDDLE, 6, 9, 1, 110   \n",
       "\n",
       "                         player_9                         player_10  \\\n",
       "0      Kaisa, BOTTOM, 1, 6, 2, 73    Nautilus, UTILITY, 0, 7, 2, 24   \n",
       "1     Senna, UTILITY, 2, 7, 6, 20  MonkeyKing, BOTTOM, 2, 8, 3, 111   \n",
       "2    KogMaw, BOTTOM, 6, 3, 8, 145      Karma, UTILITY, 3, 3, 15, 21   \n",
       "3   Kalista, BOTTOM, 3, 4, 7, 177        Zyra, UTILITY, 3, 3, 5, 11   \n",
       "4    Senna, UTILITY, 12, 6, 8, 47      Maokai, BOTTOM, 1, 7, 14, 83   \n",
       "5   KogMaw, BOTTOM, 15, 4, 8, 186       Lulu, UTILITY, 3, 3, 20, 27   \n",
       "6  Kalista, BOTTOM, 27, 3, 8, 245      Leona, UTILITY, 2, 7, 28, 30   \n",
       "7     Samira, BOTTOM, 0, 4, 0, 87       Zilean, UTILITY, 1, 2, 0, 8   \n",
       "8   Kaisa, BOTTOM, 22, 3, 10, 247      Rakan, UTILITY, 3, 4, 35, 38   \n",
       "9  Samira, BOTTOM, 8, 11, 10, 143   Alistar, UTILITY, 1, 12, 11, 21   \n",
       "\n",
       "        bdht_2  win_2  \n",
       "0   0, 0, 1, 0  False  \n",
       "1   0, 2, 0, 2  False  \n",
       "2   0, 2, 2, 7   True  \n",
       "3   0, 1, 1, 2  False  \n",
       "4   1, 1, 1, 8   True  \n",
       "5   1, 4, 1, 6   True  \n",
       "6   1, 2, 1, 8   True  \n",
       "7   0, 0, 1, 0  False  \n",
       "8  1, 4, 1, 10   True  \n",
       "9   0, 1, 0, 1  False  "
      ]
     },
     "metadata": {},
     "execution_count": 154
    }
   ],
   "metadata": {}
  },
  {
   "cell_type": "code",
   "execution_count": 155,
   "source": [
    "df.info()"
   ],
   "outputs": [
    {
     "output_type": "stream",
     "name": "stdout",
     "text": [
      "<class 'pandas.core.frame.DataFrame'>\n",
      "RangeIndex: 37534 entries, 0 to 37533\n",
      "Data columns (total 17 columns):\n",
      " #   Column       Non-Null Count  Dtype \n",
      "---  ------       --------------  ----- \n",
      " 0   matchId      37534 non-null  object\n",
      " 1   gameVersion  37534 non-null  object\n",
      " 2   rank         37534 non-null  object\n",
      " 3   player_1     37534 non-null  object\n",
      " 4   player_2     37534 non-null  object\n",
      " 5   player_3     37534 non-null  object\n",
      " 6   player_4     37534 non-null  object\n",
      " 7   player_5     37534 non-null  object\n",
      " 8   bdht_1       37534 non-null  object\n",
      " 9   win_1        37534 non-null  bool  \n",
      " 10  player_6     37534 non-null  object\n",
      " 11  player_7     37534 non-null  object\n",
      " 12  player_8     37534 non-null  object\n",
      " 13  player_9     37534 non-null  object\n",
      " 14  player_10    37534 non-null  object\n",
      " 15  bdht_2       37534 non-null  object\n",
      " 16  win_2        37534 non-null  bool  \n",
      "dtypes: bool(2), object(15)\n",
      "memory usage: 4.4+ MB\n"
     ]
    }
   ],
   "metadata": {}
  },
  {
   "cell_type": "markdown",
   "source": [
    "# Subset by tier"
   ],
   "metadata": {}
  },
  {
   "cell_type": "markdown",
   "source": [
    "## Divide to subset"
   ],
   "metadata": {}
  },
  {
   "cell_type": "code",
   "execution_count": 156,
   "source": [
    "isDia1 = (df['rank'] == \"DIAMOND-I\")\r\n",
    "isDia2 = (df['rank'] == \"DIAMOND-II\")\r\n",
    "isDia3 = (df['rank'] == \"DIAMOND-III\")\r\n",
    "isDia4 = (df['rank'] == \"DIAMOND-IV\")\r\n",
    "\r\n",
    "isPla1 = (df['rank'] == \"PLATINUM-I\")\r\n",
    "isPla2 = (df['rank'] == \"PLATINUM-II\")\r\n",
    "isPla3 = (df['rank'] == \"PLATINUM-III\")\r\n",
    "isPla4 = (df['rank'] == \"PLATINUM-IV\")\r\n",
    "\r\n",
    "isGol1 = (df['rank'] == \"GOLD-I\")\r\n",
    "isGol2 = (df['rank'] == \"GOLD-II\")\r\n",
    "isGol3 = (df['rank'] == \"GOLD-III\")\r\n",
    "isGol4 = (df['rank'] == \"GOLD-IV\")\r\n",
    "\r\n",
    "isSil1 = (df['rank'] == \"SILVER-I\")\r\n",
    "isSil2 = (df['rank'] == \"SILVER-II\")\r\n",
    "isSil3 = (df['rank'] == \"SILVER-III\")\r\n",
    "isSil4 = (df['rank'] == \"SILVER-IV\")\r\n",
    "\r\n",
    "isBro1 = (df['rank'] == \"BRONZE-I\")\r\n",
    "isBro2 = (df['rank'] == \"BRONZE-II\")\r\n",
    "isBro3 = (df['rank'] == \"BRONZE-III\")\r\n",
    "isBro4 = (df['rank'] == \"BRONZE-IV\")\r\n",
    "\r\n",
    "\r\n",
    "sub_dia1 = df[isDia1]\r\n",
    "sub_dia2 = df[isDia2]\r\n",
    "sub_dia3 = df[isDia3]\r\n",
    "sub_dia4 = df[isDia4]\r\n",
    "\r\n",
    "sub_pla1 = df[isPla1]\r\n",
    "sub_pla2 = df[isPla2]\r\n",
    "sub_pla3 = df[isPla3]\r\n",
    "sub_pla4 = df[isPla4]\r\n",
    "\r\n",
    "sub_gol1 = df[isGol1]\r\n",
    "sub_gol2 = df[isGol2]\r\n",
    "sub_gol3 = df[isGol3]\r\n",
    "sub_gol4 = df[isGol4]\r\n",
    "\r\n",
    "sub_sil1 = df[isSil1]\r\n",
    "sub_sil2 = df[isSil2]\r\n",
    "sub_sil3 = df[isSil3]\r\n",
    "sub_sil4 = df[isSil4]\r\n",
    "\r\n",
    "sub_bro1 = df[isBro1]\r\n",
    "sub_bro2 = df[isBro2]\r\n",
    "sub_bro3 = df[isBro3]\r\n",
    "sub_bro4 = df[isBro4]\r\n",
    "\r\n",
    "sub_dia2.head(10)"
   ],
   "outputs": [
    {
     "output_type": "execute_result",
     "data": {
      "text/html": [
       "<div>\n",
       "<style scoped>\n",
       "    .dataframe tbody tr th:only-of-type {\n",
       "        vertical-align: middle;\n",
       "    }\n",
       "\n",
       "    .dataframe tbody tr th {\n",
       "        vertical-align: top;\n",
       "    }\n",
       "\n",
       "    .dataframe thead th {\n",
       "        text-align: right;\n",
       "    }\n",
       "</style>\n",
       "<table border=\"1\" class=\"dataframe\">\n",
       "  <thead>\n",
       "    <tr style=\"text-align: right;\">\n",
       "      <th></th>\n",
       "      <th>matchId</th>\n",
       "      <th>gameVersion</th>\n",
       "      <th>rank</th>\n",
       "      <th>player_1</th>\n",
       "      <th>player_2</th>\n",
       "      <th>player_3</th>\n",
       "      <th>player_4</th>\n",
       "      <th>player_5</th>\n",
       "      <th>bdht_1</th>\n",
       "      <th>win_1</th>\n",
       "      <th>player_6</th>\n",
       "      <th>player_7</th>\n",
       "      <th>player_8</th>\n",
       "      <th>player_9</th>\n",
       "      <th>player_10</th>\n",
       "      <th>bdht_2</th>\n",
       "      <th>win_2</th>\n",
       "    </tr>\n",
       "  </thead>\n",
       "  <tbody>\n",
       "    <tr>\n",
       "      <th>688</th>\n",
       "      <td>KR_5292112166</td>\n",
       "      <td>11.13.382.1241</td>\n",
       "      <td>DIAMOND-II</td>\n",
       "      <td>Mordekaiser, TOP, 1, 1, 2, 108</td>\n",
       "      <td>Diana, JUNGLE, 2, 5, 1, 93</td>\n",
       "      <td>Yasuo, MIDDLE, 0, 2, 0, 107</td>\n",
       "      <td>Ezreal, BOTTOM, 1, 4, 1, 52</td>\n",
       "      <td>Senna, UTILITY, 1, 3, 1, 2</td>\n",
       "      <td>0, 0, 0, 0</td>\n",
       "      <td>False</td>\n",
       "      <td>Pantheon, TOP, 1, 2, 2, 68</td>\n",
       "      <td>Zac, JUNGLE, 4, 0, 4, 57</td>\n",
       "      <td>Rumble, MIDDLE, 6, 1, 4, 83</td>\n",
       "      <td>KogMaw, BOTTOM, 3, 2, 6, 121</td>\n",
       "      <td>Lulu, UTILITY, 1, 0, 8, 4</td>\n",
       "      <td>0, 0, 1, 7</td>\n",
       "      <td>True</td>\n",
       "    </tr>\n",
       "    <tr>\n",
       "      <th>689</th>\n",
       "      <td>KR_5313979653</td>\n",
       "      <td>11.14.385.9967</td>\n",
       "      <td>DIAMOND-II</td>\n",
       "      <td>LeeSin, TOP, 4, 6, 4, 187</td>\n",
       "      <td>Nidalee, JUNGLE, 5, 4, 3, 170</td>\n",
       "      <td>Jinx, BOTTOM, 3, 4, 3, 218</td>\n",
       "      <td>Maokai, MIDDLE, 2, 2, 8, 123</td>\n",
       "      <td>Thresh, UTILITY, 2, 8, 6, 39</td>\n",
       "      <td>0, 3, 1, 3</td>\n",
       "      <td>False</td>\n",
       "      <td>Gangplank, TOP, 3, 3, 7, 219</td>\n",
       "      <td>XinZhao, JUNGLE, 5, 3, 9, 165</td>\n",
       "      <td>Zoe, MIDDLE, 6, 3, 9, 172</td>\n",
       "      <td>Varus, BOTTOM, 6, 3, 11, 225</td>\n",
       "      <td>Zyra, UTILITY, 4, 4, 13, 43</td>\n",
       "      <td>1, 1, 0, 9</td>\n",
       "      <td>True</td>\n",
       "    </tr>\n",
       "    <tr>\n",
       "      <th>690</th>\n",
       "      <td>KR_5315953398</td>\n",
       "      <td>11.14.385.9967</td>\n",
       "      <td>DIAMOND-II</td>\n",
       "      <td>Irelia, TOP, 7, 6, 0, 209</td>\n",
       "      <td>Ekko, JUNGLE, 3, 7, 5, 146</td>\n",
       "      <td>Talon, MIDDLE, 2, 8, 2, 174</td>\n",
       "      <td>Aphelios, BOTTOM, 0, 5, 2, 213</td>\n",
       "      <td>Thresh, UTILITY, 0, 6, 4, 36</td>\n",
       "      <td>0, 0, 1, 3</td>\n",
       "      <td>False</td>\n",
       "      <td>Volibear, TOP, 5, 2, 7, 183</td>\n",
       "      <td>XinZhao, JUNGLE, 10, 4, 17, 137</td>\n",
       "      <td>Ahri, MIDDLE, 8, 1, 15, 216</td>\n",
       "      <td>Ashe, BOTTOM, 7, 3, 10, 205</td>\n",
       "      <td>Janna, UTILITY, 2, 2, 17, 13</td>\n",
       "      <td>1, 4, 1, 8</td>\n",
       "      <td>True</td>\n",
       "    </tr>\n",
       "    <tr>\n",
       "      <th>691</th>\n",
       "      <td>KR_5316028139</td>\n",
       "      <td>11.14.385.9967</td>\n",
       "      <td>DIAMOND-II</td>\n",
       "      <td>Gwen, TOP, 0, 4, 0, 102</td>\n",
       "      <td>Elise, JUNGLE, 6, 4, 1, 82</td>\n",
       "      <td>Yasuo, MIDDLE, 1, 1, 2, 147</td>\n",
       "      <td>Caitlyn, BOTTOM, 2, 3, 2, 107</td>\n",
       "      <td>Morgana, UTILITY, 1, 5, 2, 4</td>\n",
       "      <td>0, 1, 0, 0</td>\n",
       "      <td>False</td>\n",
       "      <td>Garen, TOP, 3, 0, 2, 137</td>\n",
       "      <td>Shaco, JUNGLE, 6, 3, 4, 86</td>\n",
       "      <td>Katarina, MIDDLE, 4, 3, 2, 85</td>\n",
       "      <td>Ashe, BOTTOM, 2, 2, 9, 90</td>\n",
       "      <td>Yuumi, UTILITY, 2, 2, 9, 1</td>\n",
       "      <td>0, 0, 1, 2</td>\n",
       "      <td>True</td>\n",
       "    </tr>\n",
       "    <tr>\n",
       "      <th>692</th>\n",
       "      <td>KR_5316072033</td>\n",
       "      <td>11.14.385.9967</td>\n",
       "      <td>DIAMOND-II</td>\n",
       "      <td>Renekton, TOP, 0, 4, 2, 123</td>\n",
       "      <td>LeeSin, JUNGLE, 5, 1, 2, 113</td>\n",
       "      <td>Katarina, MIDDLE, 8, 2, 0, 130</td>\n",
       "      <td>Kaisa, BOTTOM, 6, 1, 5, 142</td>\n",
       "      <td>Thresh, UTILITY, 2, 0, 10, 31</td>\n",
       "      <td>0, 2, 1, 2</td>\n",
       "      <td>True</td>\n",
       "      <td>Mordekaiser, TOP, 3, 4, 2, 108</td>\n",
       "      <td>Quinn, JUNGLE, 3, 2, 2, 103</td>\n",
       "      <td>Qiyana, MIDDLE, 1, 6, 1, 101</td>\n",
       "      <td>Vayne, BOTTOM, 1, 5, 0, 122</td>\n",
       "      <td>Lulu, UTILITY, 0, 4, 1, 5</td>\n",
       "      <td>0, 0, 0, 0</td>\n",
       "      <td>False</td>\n",
       "    </tr>\n",
       "    <tr>\n",
       "      <th>693</th>\n",
       "      <td>KR_5318719937</td>\n",
       "      <td>11.14.385.9967</td>\n",
       "      <td>DIAMOND-II</td>\n",
       "      <td>Irelia, TOP, 2, 10, 4, 196</td>\n",
       "      <td>Karthus, JUNGLE, 11, 5, 7, 172</td>\n",
       "      <td>Talon, MIDDLE, 4, 6, 8, 191</td>\n",
       "      <td>Ezreal, BOTTOM, 5, 6, 5, 205</td>\n",
       "      <td>Thresh, UTILITY, 0, 11, 9, 25</td>\n",
       "      <td>1, 0, 0, 0</td>\n",
       "      <td>False</td>\n",
       "      <td>Fiora, TOP, 4, 5, 5, 190</td>\n",
       "      <td>Hecarim, JUNGLE, 9, 4, 9, 174</td>\n",
       "      <td>Annie, MIDDLE, 6, 2, 5, 190</td>\n",
       "      <td>Tristana, BOTTOM, 16, 8, 10, 231</td>\n",
       "      <td>Lulu, UTILITY, 3, 3, 24, 18</td>\n",
       "      <td>0, 4, 1, 9</td>\n",
       "      <td>True</td>\n",
       "    </tr>\n",
       "    <tr>\n",
       "      <th>694</th>\n",
       "      <td>KR_5318815753</td>\n",
       "      <td>11.14.385.9967</td>\n",
       "      <td>DIAMOND-II</td>\n",
       "      <td>Kennen, TOP, 15, 3, 5, 162</td>\n",
       "      <td>Gragas, JUNGLE, 4, 1, 10, 155</td>\n",
       "      <td>Yasuo, MIDDLE, 1, 8, 6, 178</td>\n",
       "      <td>Jinx, BOTTOM, 3, 9, 9, 159</td>\n",
       "      <td>Soraka, UTILITY, 2, 4, 12, 13</td>\n",
       "      <td>1, 1, 1, 6</td>\n",
       "      <td>True</td>\n",
       "      <td>LeeSin, TOP, 6, 5, 4, 134</td>\n",
       "      <td>Kindred, JUNGLE, 2, 8, 4, 150</td>\n",
       "      <td>Talon, MIDDLE, 9, 4, 1, 199</td>\n",
       "      <td>Vayne, BOTTOM, 7, 4, 5, 190</td>\n",
       "      <td>Lulu, UTILITY, 1, 4, 8, 7</td>\n",
       "      <td>0, 3, 1, 4</td>\n",
       "      <td>False</td>\n",
       "    </tr>\n",
       "    <tr>\n",
       "      <th>695</th>\n",
       "      <td>KR_5324566423</td>\n",
       "      <td>11.14.385.9967</td>\n",
       "      <td>DIAMOND-II</td>\n",
       "      <td>Katarina, MIDDLE, 24, 2, 5, 155</td>\n",
       "      <td>Kindred, JUNGLE, 4, 2, 11, 131</td>\n",
       "      <td>Ornn, TOP, 2, 3, 3, 139</td>\n",
       "      <td>Aphelios, BOTTOM, 2, 3, 9, 197</td>\n",
       "      <td>Rakan, UTILITY, 2, 3, 18, 28</td>\n",
       "      <td>0, 2, 1, 8</td>\n",
       "      <td>True</td>\n",
       "      <td>Renekton, MIDDLE, 3, 7, 0, 133</td>\n",
       "      <td>Graves, JUNGLE, 2, 7, 4, 127</td>\n",
       "      <td>Aatrox, TOP, 1, 7, 2, 102</td>\n",
       "      <td>Vayne, BOTTOM, 6, 6, 1, 153</td>\n",
       "      <td>Lulu, UTILITY, 1, 7, 5, 7</td>\n",
       "      <td>0, 1, 1, 0</td>\n",
       "      <td>False</td>\n",
       "    </tr>\n",
       "    <tr>\n",
       "      <th>696</th>\n",
       "      <td>KR_5324644221</td>\n",
       "      <td>11.14.385.9967</td>\n",
       "      <td>DIAMOND-II</td>\n",
       "      <td>Renekton, TOP, 8, 11, 16, 176</td>\n",
       "      <td>LeeSin, JUNGLE, 16, 5, 20, 160</td>\n",
       "      <td>Fizz, MIDDLE, 5, 4, 19, 228</td>\n",
       "      <td>Twitch, BOTTOM, 15, 9, 23, 243</td>\n",
       "      <td>Rakan, UTILITY, 1, 11, 32, 46</td>\n",
       "      <td>0, 3, 1, 5</td>\n",
       "      <td>True</td>\n",
       "      <td>Kled, TOP, 7, 9, 11, 237</td>\n",
       "      <td>XinZhao, JUNGLE, 10, 9, 13, 179</td>\n",
       "      <td>Sylas, MIDDLE, 6, 8, 11, 134</td>\n",
       "      <td>KogMaw, BOTTOM, 11, 9, 17, 213</td>\n",
       "      <td>Yuumi, UTILITY, 5, 10, 24, 4</td>\n",
       "      <td>2, 1, 0, 5</td>\n",
       "      <td>False</td>\n",
       "    </tr>\n",
       "    <tr>\n",
       "      <th>697</th>\n",
       "      <td>KR_5324702487</td>\n",
       "      <td>11.14.385.9967</td>\n",
       "      <td>DIAMOND-II</td>\n",
       "      <td>Jayce, TOP, 0, 9, 2, 185</td>\n",
       "      <td>LeeSin, JUNGLE, 9, 4, 7, 136</td>\n",
       "      <td>Sylas, MIDDLE, 8, 7, 3, 165</td>\n",
       "      <td>Ezreal, BOTTOM, 3, 7, 3, 192</td>\n",
       "      <td>Yuumi, UTILITY, 2, 5, 13, 10</td>\n",
       "      <td>0, 0, 2, 5</td>\n",
       "      <td>False</td>\n",
       "      <td>Camille, TOP, 9, 4, 8, 177</td>\n",
       "      <td>XinZhao, JUNGLE, 6, 5, 9, 132</td>\n",
       "      <td>Leblanc, MIDDLE, 6, 5, 4, 152</td>\n",
       "      <td>Varus, BOTTOM, 4, 4, 12, 191</td>\n",
       "      <td>Xerath, UTILITY, 7, 5, 10, 30</td>\n",
       "      <td>1, 3, 0, 7</td>\n",
       "      <td>True</td>\n",
       "    </tr>\n",
       "  </tbody>\n",
       "</table>\n",
       "</div>"
      ],
      "text/plain": [
       "           matchId     gameVersion        rank  \\\n",
       "688  KR_5292112166  11.13.382.1241  DIAMOND-II   \n",
       "689  KR_5313979653  11.14.385.9967  DIAMOND-II   \n",
       "690  KR_5315953398  11.14.385.9967  DIAMOND-II   \n",
       "691  KR_5316028139  11.14.385.9967  DIAMOND-II   \n",
       "692  KR_5316072033  11.14.385.9967  DIAMOND-II   \n",
       "693  KR_5318719937  11.14.385.9967  DIAMOND-II   \n",
       "694  KR_5318815753  11.14.385.9967  DIAMOND-II   \n",
       "695  KR_5324566423  11.14.385.9967  DIAMOND-II   \n",
       "696  KR_5324644221  11.14.385.9967  DIAMOND-II   \n",
       "697  KR_5324702487  11.14.385.9967  DIAMOND-II   \n",
       "\n",
       "                            player_1                        player_2  \\\n",
       "688   Mordekaiser, TOP, 1, 1, 2, 108      Diana, JUNGLE, 2, 5, 1, 93   \n",
       "689        LeeSin, TOP, 4, 6, 4, 187   Nidalee, JUNGLE, 5, 4, 3, 170   \n",
       "690        Irelia, TOP, 7, 6, 0, 209      Ekko, JUNGLE, 3, 7, 5, 146   \n",
       "691          Gwen, TOP, 0, 4, 0, 102      Elise, JUNGLE, 6, 4, 1, 82   \n",
       "692      Renekton, TOP, 0, 4, 2, 123    LeeSin, JUNGLE, 5, 1, 2, 113   \n",
       "693       Irelia, TOP, 2, 10, 4, 196  Karthus, JUNGLE, 11, 5, 7, 172   \n",
       "694       Kennen, TOP, 15, 3, 5, 162   Gragas, JUNGLE, 4, 1, 10, 155   \n",
       "695  Katarina, MIDDLE, 24, 2, 5, 155  Kindred, JUNGLE, 4, 2, 11, 131   \n",
       "696    Renekton, TOP, 8, 11, 16, 176  LeeSin, JUNGLE, 16, 5, 20, 160   \n",
       "697         Jayce, TOP, 0, 9, 2, 185    LeeSin, JUNGLE, 9, 4, 7, 136   \n",
       "\n",
       "                           player_3                        player_4  \\\n",
       "688     Yasuo, MIDDLE, 0, 2, 0, 107     Ezreal, BOTTOM, 1, 4, 1, 52   \n",
       "689      Jinx, BOTTOM, 3, 4, 3, 218    Maokai, MIDDLE, 2, 2, 8, 123   \n",
       "690     Talon, MIDDLE, 2, 8, 2, 174  Aphelios, BOTTOM, 0, 5, 2, 213   \n",
       "691     Yasuo, MIDDLE, 1, 1, 2, 147   Caitlyn, BOTTOM, 2, 3, 2, 107   \n",
       "692  Katarina, MIDDLE, 8, 2, 0, 130     Kaisa, BOTTOM, 6, 1, 5, 142   \n",
       "693     Talon, MIDDLE, 4, 6, 8, 191    Ezreal, BOTTOM, 5, 6, 5, 205   \n",
       "694     Yasuo, MIDDLE, 1, 8, 6, 178      Jinx, BOTTOM, 3, 9, 9, 159   \n",
       "695         Ornn, TOP, 2, 3, 3, 139  Aphelios, BOTTOM, 2, 3, 9, 197   \n",
       "696     Fizz, MIDDLE, 5, 4, 19, 228  Twitch, BOTTOM, 15, 9, 23, 243   \n",
       "697     Sylas, MIDDLE, 8, 7, 3, 165    Ezreal, BOTTOM, 3, 7, 3, 192   \n",
       "\n",
       "                          player_5      bdht_1  win_1  \\\n",
       "688     Senna, UTILITY, 1, 3, 1, 2  0, 0, 0, 0  False   \n",
       "689   Thresh, UTILITY, 2, 8, 6, 39  0, 3, 1, 3  False   \n",
       "690   Thresh, UTILITY, 0, 6, 4, 36  0, 0, 1, 3  False   \n",
       "691   Morgana, UTILITY, 1, 5, 2, 4  0, 1, 0, 0  False   \n",
       "692  Thresh, UTILITY, 2, 0, 10, 31  0, 2, 1, 2   True   \n",
       "693  Thresh, UTILITY, 0, 11, 9, 25  1, 0, 0, 0  False   \n",
       "694  Soraka, UTILITY, 2, 4, 12, 13  1, 1, 1, 6   True   \n",
       "695   Rakan, UTILITY, 2, 3, 18, 28  0, 2, 1, 8   True   \n",
       "696  Rakan, UTILITY, 1, 11, 32, 46  0, 3, 1, 5   True   \n",
       "697   Yuumi, UTILITY, 2, 5, 13, 10  0, 0, 2, 5  False   \n",
       "\n",
       "                           player_6                         player_7  \\\n",
       "688      Pantheon, TOP, 1, 2, 2, 68         Zac, JUNGLE, 4, 0, 4, 57   \n",
       "689    Gangplank, TOP, 3, 3, 7, 219    XinZhao, JUNGLE, 5, 3, 9, 165   \n",
       "690     Volibear, TOP, 5, 2, 7, 183  XinZhao, JUNGLE, 10, 4, 17, 137   \n",
       "691        Garen, TOP, 3, 0, 2, 137       Shaco, JUNGLE, 6, 3, 4, 86   \n",
       "692  Mordekaiser, TOP, 3, 4, 2, 108      Quinn, JUNGLE, 3, 2, 2, 103   \n",
       "693        Fiora, TOP, 4, 5, 5, 190    Hecarim, JUNGLE, 9, 4, 9, 174   \n",
       "694       LeeSin, TOP, 6, 5, 4, 134    Kindred, JUNGLE, 2, 8, 4, 150   \n",
       "695  Renekton, MIDDLE, 3, 7, 0, 133     Graves, JUNGLE, 2, 7, 4, 127   \n",
       "696        Kled, TOP, 7, 9, 11, 237  XinZhao, JUNGLE, 10, 9, 13, 179   \n",
       "697      Camille, TOP, 9, 4, 8, 177    XinZhao, JUNGLE, 6, 5, 9, 132   \n",
       "\n",
       "                          player_8                          player_9  \\\n",
       "688    Rumble, MIDDLE, 6, 1, 4, 83      KogMaw, BOTTOM, 3, 2, 6, 121   \n",
       "689      Zoe, MIDDLE, 6, 3, 9, 172      Varus, BOTTOM, 6, 3, 11, 225   \n",
       "690    Ahri, MIDDLE, 8, 1, 15, 216       Ashe, BOTTOM, 7, 3, 10, 205   \n",
       "691  Katarina, MIDDLE, 4, 3, 2, 85         Ashe, BOTTOM, 2, 2, 9, 90   \n",
       "692   Qiyana, MIDDLE, 1, 6, 1, 101       Vayne, BOTTOM, 1, 5, 0, 122   \n",
       "693    Annie, MIDDLE, 6, 2, 5, 190  Tristana, BOTTOM, 16, 8, 10, 231   \n",
       "694    Talon, MIDDLE, 9, 4, 1, 199       Vayne, BOTTOM, 7, 4, 5, 190   \n",
       "695      Aatrox, TOP, 1, 7, 2, 102       Vayne, BOTTOM, 6, 6, 1, 153   \n",
       "696   Sylas, MIDDLE, 6, 8, 11, 134    KogMaw, BOTTOM, 11, 9, 17, 213   \n",
       "697  Leblanc, MIDDLE, 6, 5, 4, 152      Varus, BOTTOM, 4, 4, 12, 191   \n",
       "\n",
       "                         player_10      bdht_2  win_2  \n",
       "688      Lulu, UTILITY, 1, 0, 8, 4  0, 0, 1, 7   True  \n",
       "689    Zyra, UTILITY, 4, 4, 13, 43  1, 1, 0, 9   True  \n",
       "690   Janna, UTILITY, 2, 2, 17, 13  1, 4, 1, 8   True  \n",
       "691     Yuumi, UTILITY, 2, 2, 9, 1  0, 0, 1, 2   True  \n",
       "692      Lulu, UTILITY, 0, 4, 1, 5  0, 0, 0, 0  False  \n",
       "693    Lulu, UTILITY, 3, 3, 24, 18  0, 4, 1, 9   True  \n",
       "694      Lulu, UTILITY, 1, 4, 8, 7  0, 3, 1, 4  False  \n",
       "695      Lulu, UTILITY, 1, 7, 5, 7  0, 1, 1, 0  False  \n",
       "696   Yuumi, UTILITY, 5, 10, 24, 4  2, 1, 0, 5  False  \n",
       "697  Xerath, UTILITY, 7, 5, 10, 30  1, 3, 0, 7   True  "
      ]
     },
     "metadata": {},
     "execution_count": 156
    }
   ],
   "metadata": {}
  },
  {
   "cell_type": "markdown",
   "source": [
    "### Version check\r\n",
    "\r\n",
    "Not use"
   ],
   "metadata": {}
  },
  {
   "cell_type": "code",
   "execution_count": 157,
   "source": [
    "sub_dia1['gameVersion'].unique()"
   ],
   "outputs": [
    {
     "output_type": "execute_result",
     "data": {
      "text/plain": [
       "array(['11.12.379.4946', '11.13.382.1241', '11.14.384.6677',\n",
       "       '11.14.385.9967', '11.15.387.5736', '11.15.388.2387',\n",
       "       '11.15.389.2308', '11.16.390.1945', '11.17.393.607',\n",
       "       '11.17.394.4489'], dtype=object)"
      ]
     },
     "metadata": {},
     "execution_count": 157
    }
   ],
   "metadata": {}
  },
  {
   "cell_type": "code",
   "execution_count": 158,
   "source": [
    "sub_dia1['gameVersion'].value_counts()"
   ],
   "outputs": [
    {
     "output_type": "execute_result",
     "data": {
      "text/plain": [
       "11.16.390.1945    286\n",
       "11.15.389.2308    208\n",
       "11.14.385.9967     86\n",
       "11.15.388.2387     43\n",
       "11.13.382.1241     39\n",
       "11.17.393.607      11\n",
       "11.14.384.6677      7\n",
       "11.17.394.4489      4\n",
       "11.12.379.4946      3\n",
       "11.15.387.5736      1\n",
       "Name: gameVersion, dtype: int64"
      ]
     },
     "metadata": {},
     "execution_count": 158
    }
   ],
   "metadata": {}
  },
  {
   "cell_type": "code",
   "execution_count": 159,
   "source": [
    "sub_dia4['gameVersion'].value_counts()"
   ],
   "outputs": [
    {
     "output_type": "execute_result",
     "data": {
      "text/plain": [
       "11.16.390.1945    867\n",
       "11.15.389.2308    581\n",
       "11.14.385.9967    115\n",
       "11.15.388.2387    103\n",
       "11.13.382.1241     98\n",
       "11.12.379.4946     52\n",
       "11.7.366.7612      23\n",
       "11.11.377.6311     21\n",
       "11.17.393.607      20\n",
       "11.15.387.5736     19\n",
       "11.17.394.4489      9\n",
       "11.10.376.4811      9\n",
       "11.10.374.9538      8\n",
       "11.9.372.2066       8\n",
       "11.14.384.6677      5\n",
       "11.8.370.4668       3\n",
       "Name: gameVersion, dtype: int64"
      ]
     },
     "metadata": {},
     "execution_count": 159
    }
   ],
   "metadata": {}
  },
  {
   "cell_type": "code",
   "execution_count": 160,
   "source": [
    "sub_gol1['gameVersion'].value_counts()"
   ],
   "outputs": [
    {
     "output_type": "execute_result",
     "data": {
      "text/plain": [
       "11.16.390.1945    546\n",
       "11.15.389.2308    401\n",
       "11.13.382.1241    220\n",
       "11.14.385.9967    161\n",
       "11.9.372.2066     134\n",
       "11.12.379.4946    119\n",
       "11.6.365.1420     104\n",
       "11.11.377.6311    104\n",
       "11.15.388.2387     67\n",
       "11.7.366.7612      63\n",
       "11.5.361.3108      59\n",
       "11.8.370.4668      59\n",
       "11.10.374.9538     56\n",
       "11.10.376.4811     43\n",
       "11.2.353.8505      32\n",
       "11.3.357.5376      27\n",
       "11.4.360.513       20\n",
       "11.17.393.607      18\n",
       "11.1.352.5559      15\n",
       "11.6.364.2723      14\n",
       "11.15.387.5736     14\n",
       "11.3.356.7268       9\n",
       "11.8.369.4139       8\n",
       "11.17.394.4489      8\n",
       "10.25.350.1724      7\n",
       "11.14.384.6677      5\n",
       "Name: gameVersion, dtype: int64"
      ]
     },
     "metadata": {},
     "execution_count": 160
    }
   ],
   "metadata": {}
  },
  {
   "cell_type": "code",
   "execution_count": 161,
   "source": [
    "sub_bro4['gameVersion'].value_counts()"
   ],
   "outputs": [
    {
     "output_type": "execute_result",
     "data": {
      "text/plain": [
       "11.15.389.2308    292\n",
       "11.16.390.1945    261\n",
       "11.13.382.1241    166\n",
       "11.14.385.9967    155\n",
       "11.9.372.2066     139\n",
       "11.1.352.5559     125\n",
       "11.12.379.4946    122\n",
       "11.2.353.8505      91\n",
       "11.3.357.5376      87\n",
       "11.10.374.9538     86\n",
       "11.7.366.7612      81\n",
       "11.5.361.3108      78\n",
       "11.6.365.1420      77\n",
       "11.4.360.513       65\n",
       "11.11.377.6311     62\n",
       "11.8.370.4668      55\n",
       "10.25.350.1724     50\n",
       "11.15.388.2387     47\n",
       "11.10.376.4811     39\n",
       "11.14.384.6677     18\n",
       "11.15.387.5736     17\n",
       "11.17.393.607      11\n",
       "11.4.358.8046       9\n",
       "11.6.364.2723       8\n",
       "11.17.394.4489      7\n",
       "11.3.356.7268       6\n",
       "11.1.351.8352       4\n",
       "11.8.369.4139       2\n",
       "10.25.348.1797      1\n",
       "Name: gameVersion, dtype: int64"
      ]
     },
     "metadata": {},
     "execution_count": 161
    }
   ],
   "metadata": {}
  },
  {
   "cell_type": "markdown",
   "source": [
    "## ChampionName check"
   ],
   "metadata": {}
  },
  {
   "cell_type": "code",
   "execution_count": 162,
   "source": [
    "def champ2idx(df, championName):\r\n",
    "    clist = []\r\n",
    "    length = df.shape[0]\r\n",
    "    \r\n",
    "    top = 0\r\n",
    "    jun = 0\r\n",
    "    mid = 0\r\n",
    "    bot = 0\r\n",
    "    sup = 0\r\n",
    "\r\n",
    "    for idx in range(length):\r\n",
    "        for i in range(5):\r\n",
    "            name1 = df.iloc[idx,i+3].split(',')[0].strip()\r\n",
    "            name2 = df.iloc[idx,i+10].split(',')[0].strip()\r\n",
    "\r\n",
    "            lane1 = df.iloc[idx,i+3].split(',')[1].strip()\r\n",
    "            lane2 = df.iloc[idx,i+10].split(',')[1].strip()\r\n",
    "\r\n",
    "            if championName == name1:\r\n",
    "                clist.append([idx, i+3, df.iloc[idx,i+3].split(',')])\r\n",
    "                if lane1 == \"TOP\":\r\n",
    "                    top += 1\r\n",
    "                elif lane1 == \"JUNGLE\":\r\n",
    "                    jun += 1\r\n",
    "                elif lane1 == \"MIDDLE\":\r\n",
    "                    mid += 1\r\n",
    "                elif lane1 == \"BOTTOM\":\r\n",
    "                    bot += 1\r\n",
    "                elif lane1 == \"UTILITY\":\r\n",
    "                    sup += 1\r\n",
    "            elif championName == name2:\r\n",
    "                clist.append([idx, i+10, df.iloc[idx,i+10].split(',')])\r\n",
    "                if lane2 == \"TOP\":\r\n",
    "                    top += 1\r\n",
    "                elif lane2 == \"JUNGLE\":\r\n",
    "                    jun += 1\r\n",
    "                elif lane2 == \"MIDDLE\":\r\n",
    "                    mid += 1\r\n",
    "                elif lane2 == \"BOTTOM\":\r\n",
    "                    bot += 1\r\n",
    "                elif lane2 == \"UTILITY\":\r\n",
    "                    sup += 1\r\n",
    "    print(f\"Total: {len(clist)}\\nChampion: {championName} \\\r\n",
    "        \\nLane: \\\r\n",
    "            \\n\\t-TOP: {top} \\\r\n",
    "            \\n\\t-JUNGLE: {jun} \\\r\n",
    "            \\n\\t-MIDDLE: {mid} \\\r\n",
    "            \\n\\t-BOTTOM: {bot} \\\r\n",
    "            \\n\\t-UTILITY: {sup}\")\r\n",
    "    return clist        # [[row, col, [status]]]"
   ],
   "outputs": [],
   "metadata": {}
  },
  {
   "cell_type": "code",
   "execution_count": 163,
   "source": [
    "def lane2hist(df, lane):\r\n",
    "    tempset1 = df.iloc[:, 3:8]\r\n",
    "    tempset2 = df.iloc[:, 10:15]\r\n",
    "    newset = pd.DataFrame(columns=['name', 'lane'])\r\n",
    "\r\n",
    "    length = df.shape[0]\r\n",
    "    for idx in range(length):\r\n",
    "        for i in range(5):\r\n",
    "            name1 = tempset1.iloc[idx, i].split(',')[0].strip()\r\n",
    "            name2 = tempset2.iloc[idx, i].split(',')[0].strip()\r\n",
    "            lane1 = tempset1.iloc[idx, i].split(',')[1].strip()\r\n",
    "            lane2 = tempset2.iloc[idx, i].split(',')[1].strip()\r\n",
    "            new1 = pd.Series([name1, lane1], index=['name', 'lane'])\r\n",
    "            new2 = pd.Series([name2, lane2], index=['name', 'lane'])\r\n",
    " \r\n",
    "            if lane == lane1:\r\n",
    "                newset = newset.append(new1, ignore_index=True)\r\n",
    "            elif lane == lane2:\r\n",
    "                newset = newset.append(new2, ignore_index=True)\r\n",
    "\r\n",
    "    x = newset['name'].value_counts().sort_index(ascending=True).keys()\r\n",
    "    y = newset['name'].value_counts().sort_index(ascending=True)\r\n",
    "\r\n",
    "\r\n",
    "    plt.figure(figsize=(50, 15))\r\n",
    "    plt.xticks(rotation=45, fontsize=15)\r\n",
    "    plt.yticks(fontsize=35)\r\n",
    "    plt.ylabel('Pick counts', fontsize=35)\r\n",
    "    plt.bar(x, y)\r\n",
    "    plt.bar(x[np.argsort(-y)[0]], y[np.argsort(-y)[0]], color='#FF0000')\r\n",
    "    plt.bar(x[np.argsort(-y)[1:5]], y[np.argsort(-y)[1:5]], color='#FFA600')\r\n",
    "    plt.bar(x[np.argsort(-y)[5:10]], y[np.argsort(-y)[5:10]], color='#32D106')\r\n",
    "    plt.bar(x[np.argsort(-y)[10:20]], y[np.argsort(-y)[10:20]], color='#06B5D1')\r\n",
    "    plt.text(x[np.argmax(y)], y[np.argmax(y)], y[np.argmax(y)], fontsize=20, color='#FF0000', horizontalalignment='center', verticalalignment='bottom')\r\n",
    "    plt.show()\r\n",
    "    plt.close()\r\n",
    "    return newset.value_counts().head(10)\r\n",
    "    # return newset['name'].value_counts().sort_index(ascending=True)\r\n",
    "\r\n",
    "    # Llist = []\r\n",
    "    # length = df.shape[0]\r\n",
    "    # for idx in range(length):\r\n",
    "    #     for i in range(5):\r\n",
    "    #         lane1 = df.iloc[idx,i+3].split(',')[1].strip()\r\n",
    "    #         lane2 = df.iloc[idx,i+10].split(',')[1].strip()\r\n",
    "    #         if lane == lane1:\r\n",
    "    #             Llist.append([idx, i+3, df.iloc[idx,i+3].split()])\r\n",
    "    #         if lane == lane2:\r\n",
    "    #             Llist.append([idx, i+10, df.iloc[idx,i+10].split()])\r\n",
    "    # return Llist"
   ],
   "outputs": [],
   "metadata": {}
  },
  {
   "cell_type": "code",
   "execution_count": 164,
   "source": [
    "def champlane2idx(df, championName, lane):\r\n",
    "    CLlist = []\r\n",
    "    length = df.shape[0]\r\n",
    "    for idx in range(length):\r\n",
    "        for i in range(5):\r\n",
    "            name1 = df.iloc[idx,i+3].split(',')[0].strip()\r\n",
    "            name2 = df.iloc[idx,i+10].split(',')[0].strip()\r\n",
    "            lane1 = df.iloc[idx,i+3].split(',')[1].strip()\r\n",
    "            lane2 = df.iloc[idx,i+10].split(',')[1].strip()\r\n",
    "            if championName == name1:\r\n",
    "                if lane == lane1:\r\n",
    "                    CLlist.append([idx, i+3, df.iloc[idx,i+3].split(',')])\r\n",
    "            elif championName == name2:\r\n",
    "                if lane == lane2:\r\n",
    "                    CLlist.append([idx, i+10, df.iloc[idx,i+10].split(',')])\r\n",
    "    print(f\"Total: {len(CLlist)}\\nChampion: {championName}\\nLane: {lane}\")\r\n",
    "    return CLlist        # [[row, col, [status]]]"
   ],
   "outputs": [],
   "metadata": {}
  },
  {
   "cell_type": "markdown",
   "source": [
    "### Lux by DIAMOND\r\n",
    "\r\n",
    "고티어일수록 럭스 자체 픽률도 낮아질 뿐만 아니라, (미드):(서폿) = 1 : 3(고)~5(저) 의 비율을 갖는 성향이 있다. \\\r\n",
    "이 def의 사용방법은 Lux의 stats을 lane에 관계없이 알아볼 때 사용한다."
   ],
   "metadata": {}
  },
  {
   "cell_type": "code",
   "execution_count": 165,
   "source": [
    "# champ2idx(sub_dia1, \"Lux\")"
   ],
   "outputs": [],
   "metadata": {}
  },
  {
   "cell_type": "code",
   "execution_count": 166,
   "source": [
    "# champ2idx(sub_dia2, \"Lux\")"
   ],
   "outputs": [],
   "metadata": {}
  },
  {
   "cell_type": "code",
   "execution_count": 167,
   "source": [
    "# champ2idx(sub_dia3, \"Lux\")"
   ],
   "outputs": [],
   "metadata": {}
  },
  {
   "cell_type": "code",
   "execution_count": 168,
   "source": [
    "# champ2idx(sub_dia4, \"Lux\")"
   ],
   "outputs": [],
   "metadata": {}
  },
  {
   "cell_type": "markdown",
   "source": [
    "### Lux by PLATINUM"
   ],
   "metadata": {}
  },
  {
   "cell_type": "code",
   "execution_count": 169,
   "source": [
    "# champ2idx(sub_pla1, \"Lux\")\r\n"
   ],
   "outputs": [],
   "metadata": {}
  },
  {
   "cell_type": "code",
   "execution_count": 170,
   "source": [
    "# champ2idx(sub_pla2, \"Lux\")\r\n"
   ],
   "outputs": [],
   "metadata": {}
  },
  {
   "cell_type": "code",
   "execution_count": 171,
   "source": [
    "# champ2idx(sub_pla3, \"Lux\")\r\n"
   ],
   "outputs": [],
   "metadata": {}
  },
  {
   "cell_type": "code",
   "execution_count": 172,
   "source": [
    "# champ2idx(sub_pla4, \"Lux\")\r\n"
   ],
   "outputs": [],
   "metadata": {}
  },
  {
   "cell_type": "markdown",
   "source": [
    "### Lux by GOLD"
   ],
   "metadata": {}
  },
  {
   "cell_type": "code",
   "execution_count": 173,
   "source": [
    "# champ2idx(sub_gol1, \"Lux\")\r\n"
   ],
   "outputs": [],
   "metadata": {}
  },
  {
   "cell_type": "code",
   "execution_count": 174,
   "source": [
    "# champ2idx(sub_gol2, \"Lux\")\r\n"
   ],
   "outputs": [],
   "metadata": {}
  },
  {
   "cell_type": "code",
   "execution_count": 175,
   "source": [
    "# champ2idx(sub_gol3, \"Lux\")\r\n"
   ],
   "outputs": [],
   "metadata": {}
  },
  {
   "cell_type": "code",
   "execution_count": 176,
   "source": [
    "# champ2idx(sub_gol4, \"Lux\")\r\n"
   ],
   "outputs": [],
   "metadata": {}
  },
  {
   "cell_type": "markdown",
   "source": [
    "### Lux by SILVER"
   ],
   "metadata": {}
  },
  {
   "cell_type": "code",
   "execution_count": 177,
   "source": [
    "# champ2idx(sub_sil1, \"Lux\")"
   ],
   "outputs": [],
   "metadata": {}
  },
  {
   "cell_type": "code",
   "execution_count": 178,
   "source": [
    "# champ2idx(sub_sil2, \"Lux\")\r\n"
   ],
   "outputs": [],
   "metadata": {}
  },
  {
   "cell_type": "code",
   "execution_count": 179,
   "source": [
    "# champ2idx(sub_sil3, \"Lux\")\r\n"
   ],
   "outputs": [],
   "metadata": {}
  },
  {
   "cell_type": "code",
   "execution_count": 180,
   "source": [
    "# champ2idx(sub_sil4, \"Lux\")\r\n"
   ],
   "outputs": [],
   "metadata": {}
  },
  {
   "cell_type": "markdown",
   "source": [
    "### Lux by BRONZE"
   ],
   "metadata": {}
  },
  {
   "cell_type": "code",
   "execution_count": 181,
   "source": [
    "# champ2idx(sub_bro1, \"Lux\")\r\n"
   ],
   "outputs": [],
   "metadata": {}
  },
  {
   "cell_type": "code",
   "execution_count": 182,
   "source": [
    "# champ2idx(sub_bro2, \"Lux\")\r\n"
   ],
   "outputs": [],
   "metadata": {}
  },
  {
   "cell_type": "code",
   "execution_count": 183,
   "source": [
    "# champ2idx(sub_bro3, \"Lux\")\r\n"
   ],
   "outputs": [],
   "metadata": {}
  },
  {
   "cell_type": "code",
   "execution_count": 184,
   "source": [
    "# champ2idx(sub_bro4, \"Lux\")\r\n"
   ],
   "outputs": [],
   "metadata": {}
  },
  {
   "cell_type": "markdown",
   "source": [
    "## MID Lux by DIA-I\r\n",
    "\r\n",
    "위와 동일한 함수이다. 특정 라인까지 알아볼 때 좋다."
   ],
   "metadata": {}
  },
  {
   "cell_type": "code",
   "execution_count": 185,
   "source": [
    "# champlane2idx(sub_dia3, \"Lux\", \"MIDDLE\")"
   ],
   "outputs": [],
   "metadata": {}
  },
  {
   "cell_type": "markdown",
   "source": [
    "## Champion pick counts histogram by tier"
   ],
   "metadata": {}
  },
  {
   "cell_type": "markdown",
   "source": [
    "### DIAMOND"
   ],
   "metadata": {}
  },
  {
   "cell_type": "code",
   "execution_count": 186,
   "source": [
    "# lane2hist(sub_dia1, \"TOP\")"
   ],
   "outputs": [],
   "metadata": {}
  },
  {
   "cell_type": "code",
   "execution_count": 187,
   "source": [
    "# lane2hist(sub_dia1, \"JUNGLE\")"
   ],
   "outputs": [],
   "metadata": {}
  },
  {
   "cell_type": "code",
   "execution_count": 188,
   "source": [
    "# lane2hist(sub_dia1, \"MIDDLE\")\r\n"
   ],
   "outputs": [],
   "metadata": {}
  },
  {
   "cell_type": "code",
   "execution_count": 189,
   "source": [
    "# lane2hist(sub_dia1, \"BOTTOM\")\r\n"
   ],
   "outputs": [],
   "metadata": {}
  },
  {
   "cell_type": "code",
   "execution_count": 190,
   "source": [
    "# lane2hist(sub_dia1, \"UTILITY\")\r\n"
   ],
   "outputs": [],
   "metadata": {}
  },
  {
   "cell_type": "markdown",
   "source": [
    "### PLATINUM"
   ],
   "metadata": {}
  },
  {
   "cell_type": "code",
   "execution_count": 191,
   "source": [
    "# lane2hist(sub_pla1, \"TOP\")\r\n"
   ],
   "outputs": [],
   "metadata": {}
  },
  {
   "cell_type": "code",
   "execution_count": 192,
   "source": [
    "# lane2hist(sub_pla1, \"JUNGLE\")\r\n"
   ],
   "outputs": [],
   "metadata": {}
  },
  {
   "cell_type": "code",
   "execution_count": 193,
   "source": [
    "# lane2hist(sub_pla1, \"MIDDLE\")\r\n"
   ],
   "outputs": [],
   "metadata": {}
  },
  {
   "cell_type": "code",
   "execution_count": 194,
   "source": [
    "# lane2hist(sub_pla1, \"BOTTOM\")\r\n"
   ],
   "outputs": [],
   "metadata": {}
  },
  {
   "cell_type": "code",
   "execution_count": 195,
   "source": [
    "# lane2hist(sub_pla1, \"UTILITY\")\r\n"
   ],
   "outputs": [],
   "metadata": {}
  },
  {
   "cell_type": "markdown",
   "source": [
    "### GOLD"
   ],
   "metadata": {}
  },
  {
   "cell_type": "code",
   "execution_count": 196,
   "source": [
    "# lane2hist(sub_gol1, \"TOP\")\r\n"
   ],
   "outputs": [],
   "metadata": {}
  },
  {
   "cell_type": "code",
   "execution_count": 197,
   "source": [
    "# lane2hist(sub_gol1, \"JUNGLE\")\r\n"
   ],
   "outputs": [],
   "metadata": {}
  },
  {
   "cell_type": "code",
   "execution_count": 198,
   "source": [
    "# lane2hist(sub_gol1, \"MIDDLE\")\r\n"
   ],
   "outputs": [],
   "metadata": {}
  },
  {
   "cell_type": "code",
   "execution_count": 199,
   "source": [
    "# lane2hist(sub_gol1, \"BOTTOM\")\r\n"
   ],
   "outputs": [],
   "metadata": {}
  },
  {
   "cell_type": "code",
   "execution_count": 200,
   "source": [
    "# lane2hist(sub_gol1, \"UTILITY\")\r\n"
   ],
   "outputs": [],
   "metadata": {}
  },
  {
   "cell_type": "markdown",
   "source": [
    "### SILVER"
   ],
   "metadata": {}
  },
  {
   "cell_type": "code",
   "execution_count": 201,
   "source": [
    "# lane2hist(sub_sil1, \"TOP\")\r\n"
   ],
   "outputs": [],
   "metadata": {}
  },
  {
   "cell_type": "code",
   "execution_count": 202,
   "source": [
    "# lane2hist(sub_sil1, \"JUNGLE\")\r\n"
   ],
   "outputs": [],
   "metadata": {}
  },
  {
   "cell_type": "code",
   "execution_count": 203,
   "source": [
    "# lane2hist(sub_sil1, \"MIDDLE\")\r\n"
   ],
   "outputs": [],
   "metadata": {}
  },
  {
   "cell_type": "code",
   "execution_count": 204,
   "source": [
    "# lane2hist(sub_sil1, \"BOTTOM\")\r\n"
   ],
   "outputs": [],
   "metadata": {}
  },
  {
   "cell_type": "code",
   "execution_count": 205,
   "source": [
    "# lane2hist(sub_sil1, \"UTILITY\")\r\n"
   ],
   "outputs": [],
   "metadata": {}
  },
  {
   "cell_type": "markdown",
   "source": [
    "### BRONZE"
   ],
   "metadata": {}
  },
  {
   "cell_type": "code",
   "execution_count": 206,
   "source": [
    "# lane2hist(sub_bro1, \"TOP\")\r\n"
   ],
   "outputs": [],
   "metadata": {}
  },
  {
   "cell_type": "code",
   "execution_count": 207,
   "source": [
    "# lane2hist(sub_bro1, \"JUNGLE\")\r\n"
   ],
   "outputs": [],
   "metadata": {}
  },
  {
   "cell_type": "code",
   "execution_count": 208,
   "source": [
    "# lane2hist(sub_bro1, \"MIDDLE\")\r\n"
   ],
   "outputs": [],
   "metadata": {}
  },
  {
   "cell_type": "code",
   "execution_count": 209,
   "source": [
    "# lane2hist(sub_bro1, \"BOTTOM\")\r\n"
   ],
   "outputs": [],
   "metadata": {}
  },
  {
   "cell_type": "code",
   "execution_count": 210,
   "source": [
    "# lane2hist(sub_bro1, \"UTILITY\")\r\n"
   ],
   "outputs": [],
   "metadata": {}
  },
  {
   "cell_type": "markdown",
   "source": [
    "# Modeling"
   ],
   "metadata": {}
  },
  {
   "cell_type": "markdown",
   "source": [
    "## Build dataset"
   ],
   "metadata": {}
  },
  {
   "cell_type": "code",
   "execution_count": 211,
   "source": [
    "sub_dia1.head(10)"
   ],
   "outputs": [
    {
     "output_type": "execute_result",
     "data": {
      "text/html": [
       "<div>\n",
       "<style scoped>\n",
       "    .dataframe tbody tr th:only-of-type {\n",
       "        vertical-align: middle;\n",
       "    }\n",
       "\n",
       "    .dataframe tbody tr th {\n",
       "        vertical-align: top;\n",
       "    }\n",
       "\n",
       "    .dataframe thead th {\n",
       "        text-align: right;\n",
       "    }\n",
       "</style>\n",
       "<table border=\"1\" class=\"dataframe\">\n",
       "  <thead>\n",
       "    <tr style=\"text-align: right;\">\n",
       "      <th></th>\n",
       "      <th>matchId</th>\n",
       "      <th>gameVersion</th>\n",
       "      <th>rank</th>\n",
       "      <th>player_1</th>\n",
       "      <th>player_2</th>\n",
       "      <th>player_3</th>\n",
       "      <th>player_4</th>\n",
       "      <th>player_5</th>\n",
       "      <th>bdht_1</th>\n",
       "      <th>win_1</th>\n",
       "      <th>player_6</th>\n",
       "      <th>player_7</th>\n",
       "      <th>player_8</th>\n",
       "      <th>player_9</th>\n",
       "      <th>player_10</th>\n",
       "      <th>bdht_2</th>\n",
       "      <th>win_2</th>\n",
       "    </tr>\n",
       "  </thead>\n",
       "  <tbody>\n",
       "    <tr>\n",
       "      <th>0</th>\n",
       "      <td>KR_5266752731</td>\n",
       "      <td>11.12.379.4946</td>\n",
       "      <td>DIAMOND-I</td>\n",
       "      <td>MonkeyKing, TOP, 1, 3, 3, 115</td>\n",
       "      <td>Kindred, JUNGLE, 12, 2, 10, 109</td>\n",
       "      <td>Galio, MIDDLE, 7, 2, 10, 118</td>\n",
       "      <td>MissFortune, BOTTOM, 7, 3, 8, 113</td>\n",
       "      <td>Alistar, UTILITY, 1, 1, 14, 24</td>\n",
       "      <td>0, 2, 0, 5</td>\n",
       "      <td>True</td>\n",
       "      <td>Gwen, TOP, 3, 4, 2, 117</td>\n",
       "      <td>Nidalee, JUNGLE, 4, 7, 3, 85</td>\n",
       "      <td>Pantheon, MIDDLE, 3, 4, 4, 97</td>\n",
       "      <td>Kaisa, BOTTOM, 1, 6, 2, 73</td>\n",
       "      <td>Nautilus, UTILITY, 0, 7, 2, 24</td>\n",
       "      <td>0, 0, 1, 0</td>\n",
       "      <td>False</td>\n",
       "    </tr>\n",
       "    <tr>\n",
       "      <th>1</th>\n",
       "      <td>KR_5275521774</td>\n",
       "      <td>11.12.379.4946</td>\n",
       "      <td>DIAMOND-I</td>\n",
       "      <td>Jax, TOP, 3, 6, 4, 145</td>\n",
       "      <td>Elise, JUNGLE, 12, 4, 11, 130</td>\n",
       "      <td>Ahri, MIDDLE, 8, 2, 6, 183</td>\n",
       "      <td>Draven, BOTTOM, 6, 3, 14, 157</td>\n",
       "      <td>Thresh, UTILITY, 2, 2, 20, 30</td>\n",
       "      <td>1, 0, 2, 9</td>\n",
       "      <td>True</td>\n",
       "      <td>Sett, TOP, 2, 6, 4, 146</td>\n",
       "      <td>LeeSin, JUNGLE, 5, 7, 3, 96</td>\n",
       "      <td>Katarina, MIDDLE, 5, 3, 5, 169</td>\n",
       "      <td>Senna, UTILITY, 2, 7, 6, 20</td>\n",
       "      <td>MonkeyKing, BOTTOM, 2, 8, 3, 111</td>\n",
       "      <td>0, 2, 0, 2</td>\n",
       "      <td>False</td>\n",
       "    </tr>\n",
       "    <tr>\n",
       "      <th>2</th>\n",
       "      <td>KR_5275532435</td>\n",
       "      <td>11.12.379.4946</td>\n",
       "      <td>DIAMOND-I</td>\n",
       "      <td>Jayce, TOP, 2, 7, 2, 132</td>\n",
       "      <td>Kayn, JUNGLE, 8, 6, 2, 84</td>\n",
       "      <td>Yone, MIDDLE, 1, 5, 2, 162</td>\n",
       "      <td>Varus, BOTTOM, 0, 6, 8, 102</td>\n",
       "      <td>Lulu, UTILITY, 1, 6, 4, 17</td>\n",
       "      <td>0, 0, 0, 1</td>\n",
       "      <td>False</td>\n",
       "      <td>Pantheon, TOP, 3, 3, 8, 106</td>\n",
       "      <td>Rumble, JUNGLE, 7, 2, 7, 160</td>\n",
       "      <td>Zoe, MIDDLE, 11, 1, 7, 152</td>\n",
       "      <td>KogMaw, BOTTOM, 6, 3, 8, 145</td>\n",
       "      <td>Karma, UTILITY, 3, 3, 15, 21</td>\n",
       "      <td>0, 2, 2, 7</td>\n",
       "      <td>True</td>\n",
       "    </tr>\n",
       "    <tr>\n",
       "      <th>3</th>\n",
       "      <td>KR_5282894572</td>\n",
       "      <td>11.13.382.1241</td>\n",
       "      <td>DIAMOND-I</td>\n",
       "      <td>Rumble, TOP, 8, 2, 3, 176</td>\n",
       "      <td>Viego, JUNGLE, 4, 1, 10, 117</td>\n",
       "      <td>Lucian, MIDDLE, 6, 1, 1, 211</td>\n",
       "      <td>Ezreal, BOTTOM, 4, 4, 7, 152</td>\n",
       "      <td>Karma, UTILITY, 1, 4, 10, 5</td>\n",
       "      <td>0, 1, 1, 6</td>\n",
       "      <td>True</td>\n",
       "      <td>Nocturne, TOP, 2, 5, 2, 136</td>\n",
       "      <td>Hecarim, JUNGLE, 1, 6, 6, 120</td>\n",
       "      <td>Zilean, MIDDLE, 3, 5, 2, 122</td>\n",
       "      <td>Kalista, BOTTOM, 3, 4, 7, 177</td>\n",
       "      <td>Zyra, UTILITY, 3, 3, 5, 11</td>\n",
       "      <td>0, 1, 1, 2</td>\n",
       "      <td>False</td>\n",
       "    </tr>\n",
       "    <tr>\n",
       "      <th>4</th>\n",
       "      <td>KR_5282963488</td>\n",
       "      <td>11.13.382.1241</td>\n",
       "      <td>DIAMOND-I</td>\n",
       "      <td>Jayce, TOP, 5, 9, 11, 130</td>\n",
       "      <td>Viego, JUNGLE, 9, 5, 6, 119</td>\n",
       "      <td>AurelionSol, MIDDLE, 6, 7, 5, 158</td>\n",
       "      <td>Kalista, BOTTOM, 3, 8, 7, 139</td>\n",
       "      <td>Nautilus, UTILITY, 2, 6, 12, 32</td>\n",
       "      <td>0, 2, 0, 1</td>\n",
       "      <td>False</td>\n",
       "      <td>Lucian, TOP, 10, 7, 6, 205</td>\n",
       "      <td>Nidalee, JUNGLE, 5, 2, 15, 126</td>\n",
       "      <td>Aatrox, MIDDLE, 7, 3, 1, 194</td>\n",
       "      <td>Senna, UTILITY, 12, 6, 8, 47</td>\n",
       "      <td>Maokai, BOTTOM, 1, 7, 14, 83</td>\n",
       "      <td>1, 1, 1, 8</td>\n",
       "      <td>True</td>\n",
       "    </tr>\n",
       "    <tr>\n",
       "      <th>5</th>\n",
       "      <td>KR_5282964924</td>\n",
       "      <td>11.13.382.1241</td>\n",
       "      <td>DIAMOND-I</td>\n",
       "      <td>Rumble, TOP, 9, 2, 9, 178</td>\n",
       "      <td>Karthus, JUNGLE, 9, 9, 6, 192</td>\n",
       "      <td>Yone, MIDDLE, 3, 5, 6, 160</td>\n",
       "      <td>Kalista, UTILITY, 4, 11, 4, 94</td>\n",
       "      <td>Pantheon, UTILITY, 0, 8, 8, 29</td>\n",
       "      <td>0, 0, 1, 2</td>\n",
       "      <td>False</td>\n",
       "      <td>Sett, TOP, 2, 9, 3, 90</td>\n",
       "      <td>Diana, JUNGLE, 9, 5, 7, 142</td>\n",
       "      <td>Zoe, MIDDLE, 6, 4, 6, 181</td>\n",
       "      <td>KogMaw, BOTTOM, 15, 4, 8, 186</td>\n",
       "      <td>Lulu, UTILITY, 3, 3, 20, 27</td>\n",
       "      <td>1, 4, 1, 6</td>\n",
       "      <td>True</td>\n",
       "    </tr>\n",
       "    <tr>\n",
       "      <th>6</th>\n",
       "      <td>KR_5289447024</td>\n",
       "      <td>11.13.382.1241</td>\n",
       "      <td>DIAMOND-I</td>\n",
       "      <td>Jax, TOP, 8, 5, 5, 166</td>\n",
       "      <td>Rumble, JUNGLE, 16, 4, 5, 146</td>\n",
       "      <td>Camille, MIDDLE, 4, 7, 2, 113</td>\n",
       "      <td>Senna, UTILITY, 4, 10, 11, 34</td>\n",
       "      <td>Sett, UTILITY, 1, 11, 8, 100</td>\n",
       "      <td>0, 0, 1, 3</td>\n",
       "      <td>False</td>\n",
       "      <td>Gangplank, TOP, 1, 10, 11, 143</td>\n",
       "      <td>Elise, JUNGLE, 3, 4, 5, 122</td>\n",
       "      <td>Renekton, MIDDLE, 3, 9, 6, 169</td>\n",
       "      <td>Kalista, BOTTOM, 27, 3, 8, 245</td>\n",
       "      <td>Leona, UTILITY, 2, 7, 28, 30</td>\n",
       "      <td>1, 2, 1, 8</td>\n",
       "      <td>True</td>\n",
       "    </tr>\n",
       "    <tr>\n",
       "      <th>7</th>\n",
       "      <td>KR_5291224245</td>\n",
       "      <td>11.13.382.1241</td>\n",
       "      <td>DIAMOND-I</td>\n",
       "      <td>Kled, TOP, 1, 2, 5, 90</td>\n",
       "      <td>Diana, JUNGLE, 2, 0, 5, 125</td>\n",
       "      <td>Talon, MIDDLE, 4, 1, 4, 92</td>\n",
       "      <td>Senna, UTILITY, 4, 0, 8, 15</td>\n",
       "      <td>LeeSin, BOTTOM, 5, 1, 4, 130</td>\n",
       "      <td>0, 2, 0, 3</td>\n",
       "      <td>True</td>\n",
       "      <td>Gwen, TOP, 3, 1, 0, 126</td>\n",
       "      <td>Volibear, JUNGLE, 0, 4, 0, 70</td>\n",
       "      <td>Corki, MIDDLE, 0, 5, 1, 122</td>\n",
       "      <td>Samira, BOTTOM, 0, 4, 0, 87</td>\n",
       "      <td>Zilean, UTILITY, 1, 2, 0, 8</td>\n",
       "      <td>0, 0, 1, 0</td>\n",
       "      <td>False</td>\n",
       "    </tr>\n",
       "    <tr>\n",
       "      <th>8</th>\n",
       "      <td>KR_5291403254</td>\n",
       "      <td>11.13.382.1241</td>\n",
       "      <td>DIAMOND-I</td>\n",
       "      <td>Ornn, TOP, 2, 9, 10, 170</td>\n",
       "      <td>XinZhao, JUNGLE, 7, 8, 7, 149</td>\n",
       "      <td>Viego, MIDDLE, 13, 8, 5, 153</td>\n",
       "      <td>Jinx, BOTTOM, 1, 11, 7, 179</td>\n",
       "      <td>Thresh, UTILITY, 0, 10, 8, 35</td>\n",
       "      <td>0, 0, 1, 2</td>\n",
       "      <td>False</td>\n",
       "      <td>Kled, TOP, 5, 4, 12, 151</td>\n",
       "      <td>Elise, JUNGLE, 10, 4, 8, 151</td>\n",
       "      <td>Qiyana, MIDDLE, 6, 8, 10, 182</td>\n",
       "      <td>Kaisa, BOTTOM, 22, 3, 10, 247</td>\n",
       "      <td>Rakan, UTILITY, 3, 4, 35, 38</td>\n",
       "      <td>1, 4, 1, 10</td>\n",
       "      <td>True</td>\n",
       "    </tr>\n",
       "    <tr>\n",
       "      <th>9</th>\n",
       "      <td>KR_5291453093</td>\n",
       "      <td>11.13.382.1241</td>\n",
       "      <td>DIAMOND-I</td>\n",
       "      <td>Kled, TOP, 11, 5, 10, 169</td>\n",
       "      <td>Elise, JUNGLE, 9, 4, 19, 128</td>\n",
       "      <td>Qiyana, MIDDLE, 20, 5, 9, 169</td>\n",
       "      <td>Kaisa, BOTTOM, 11, 8, 9, 162</td>\n",
       "      <td>Leona, UTILITY, 1, 5, 19, 32</td>\n",
       "      <td>0, 1, 2, 8</td>\n",
       "      <td>True</td>\n",
       "      <td>Irelia, TOP, 5, 10, 3, 158</td>\n",
       "      <td>Nidalee, JUNGLE, 7, 10, 12, 106</td>\n",
       "      <td>Katarina, MIDDLE, 6, 9, 1, 110</td>\n",
       "      <td>Samira, BOTTOM, 8, 11, 10, 143</td>\n",
       "      <td>Alistar, UTILITY, 1, 12, 11, 21</td>\n",
       "      <td>0, 1, 0, 1</td>\n",
       "      <td>False</td>\n",
       "    </tr>\n",
       "  </tbody>\n",
       "</table>\n",
       "</div>"
      ],
      "text/plain": [
       "         matchId     gameVersion       rank                       player_1  \\\n",
       "0  KR_5266752731  11.12.379.4946  DIAMOND-I  MonkeyKing, TOP, 1, 3, 3, 115   \n",
       "1  KR_5275521774  11.12.379.4946  DIAMOND-I         Jax, TOP, 3, 6, 4, 145   \n",
       "2  KR_5275532435  11.12.379.4946  DIAMOND-I       Jayce, TOP, 2, 7, 2, 132   \n",
       "3  KR_5282894572  11.13.382.1241  DIAMOND-I      Rumble, TOP, 8, 2, 3, 176   \n",
       "4  KR_5282963488  11.13.382.1241  DIAMOND-I      Jayce, TOP, 5, 9, 11, 130   \n",
       "5  KR_5282964924  11.13.382.1241  DIAMOND-I      Rumble, TOP, 9, 2, 9, 178   \n",
       "6  KR_5289447024  11.13.382.1241  DIAMOND-I         Jax, TOP, 8, 5, 5, 166   \n",
       "7  KR_5291224245  11.13.382.1241  DIAMOND-I         Kled, TOP, 1, 2, 5, 90   \n",
       "8  KR_5291403254  11.13.382.1241  DIAMOND-I       Ornn, TOP, 2, 9, 10, 170   \n",
       "9  KR_5291453093  11.13.382.1241  DIAMOND-I      Kled, TOP, 11, 5, 10, 169   \n",
       "\n",
       "                          player_2                           player_3  \\\n",
       "0  Kindred, JUNGLE, 12, 2, 10, 109       Galio, MIDDLE, 7, 2, 10, 118   \n",
       "1    Elise, JUNGLE, 12, 4, 11, 130         Ahri, MIDDLE, 8, 2, 6, 183   \n",
       "2        Kayn, JUNGLE, 8, 6, 2, 84         Yone, MIDDLE, 1, 5, 2, 162   \n",
       "3     Viego, JUNGLE, 4, 1, 10, 117       Lucian, MIDDLE, 6, 1, 1, 211   \n",
       "4      Viego, JUNGLE, 9, 5, 6, 119  AurelionSol, MIDDLE, 6, 7, 5, 158   \n",
       "5    Karthus, JUNGLE, 9, 9, 6, 192         Yone, MIDDLE, 3, 5, 6, 160   \n",
       "6    Rumble, JUNGLE, 16, 4, 5, 146      Camille, MIDDLE, 4, 7, 2, 113   \n",
       "7      Diana, JUNGLE, 2, 0, 5, 125         Talon, MIDDLE, 4, 1, 4, 92   \n",
       "8    XinZhao, JUNGLE, 7, 8, 7, 149       Viego, MIDDLE, 13, 8, 5, 153   \n",
       "9     Elise, JUNGLE, 9, 4, 19, 128      Qiyana, MIDDLE, 20, 5, 9, 169   \n",
       "\n",
       "                            player_4                         player_5  \\\n",
       "0  MissFortune, BOTTOM, 7, 3, 8, 113   Alistar, UTILITY, 1, 1, 14, 24   \n",
       "1      Draven, BOTTOM, 6, 3, 14, 157    Thresh, UTILITY, 2, 2, 20, 30   \n",
       "2        Varus, BOTTOM, 0, 6, 8, 102       Lulu, UTILITY, 1, 6, 4, 17   \n",
       "3       Ezreal, BOTTOM, 4, 4, 7, 152      Karma, UTILITY, 1, 4, 10, 5   \n",
       "4      Kalista, BOTTOM, 3, 8, 7, 139  Nautilus, UTILITY, 2, 6, 12, 32   \n",
       "5     Kalista, UTILITY, 4, 11, 4, 94   Pantheon, UTILITY, 0, 8, 8, 29   \n",
       "6      Senna, UTILITY, 4, 10, 11, 34     Sett, UTILITY, 1, 11, 8, 100   \n",
       "7        Senna, UTILITY, 4, 0, 8, 15     LeeSin, BOTTOM, 5, 1, 4, 130   \n",
       "8        Jinx, BOTTOM, 1, 11, 7, 179    Thresh, UTILITY, 0, 10, 8, 35   \n",
       "9       Kaisa, BOTTOM, 11, 8, 9, 162     Leona, UTILITY, 1, 5, 19, 32   \n",
       "\n",
       "       bdht_1  win_1                        player_6  \\\n",
       "0  0, 2, 0, 5   True         Gwen, TOP, 3, 4, 2, 117   \n",
       "1  1, 0, 2, 9   True         Sett, TOP, 2, 6, 4, 146   \n",
       "2  0, 0, 0, 1  False     Pantheon, TOP, 3, 3, 8, 106   \n",
       "3  0, 1, 1, 6   True     Nocturne, TOP, 2, 5, 2, 136   \n",
       "4  0, 2, 0, 1  False      Lucian, TOP, 10, 7, 6, 205   \n",
       "5  0, 0, 1, 2  False          Sett, TOP, 2, 9, 3, 90   \n",
       "6  0, 0, 1, 3  False  Gangplank, TOP, 1, 10, 11, 143   \n",
       "7  0, 2, 0, 3   True         Gwen, TOP, 3, 1, 0, 126   \n",
       "8  0, 0, 1, 2  False        Kled, TOP, 5, 4, 12, 151   \n",
       "9  0, 1, 2, 8   True      Irelia, TOP, 5, 10, 3, 158   \n",
       "\n",
       "                          player_7                        player_8  \\\n",
       "0     Nidalee, JUNGLE, 4, 7, 3, 85   Pantheon, MIDDLE, 3, 4, 4, 97   \n",
       "1      LeeSin, JUNGLE, 5, 7, 3, 96  Katarina, MIDDLE, 5, 3, 5, 169   \n",
       "2     Rumble, JUNGLE, 7, 2, 7, 160      Zoe, MIDDLE, 11, 1, 7, 152   \n",
       "3    Hecarim, JUNGLE, 1, 6, 6, 120    Zilean, MIDDLE, 3, 5, 2, 122   \n",
       "4   Nidalee, JUNGLE, 5, 2, 15, 126    Aatrox, MIDDLE, 7, 3, 1, 194   \n",
       "5      Diana, JUNGLE, 9, 5, 7, 142       Zoe, MIDDLE, 6, 4, 6, 181   \n",
       "6      Elise, JUNGLE, 3, 4, 5, 122  Renekton, MIDDLE, 3, 9, 6, 169   \n",
       "7    Volibear, JUNGLE, 0, 4, 0, 70     Corki, MIDDLE, 0, 5, 1, 122   \n",
       "8     Elise, JUNGLE, 10, 4, 8, 151   Qiyana, MIDDLE, 6, 8, 10, 182   \n",
       "9  Nidalee, JUNGLE, 7, 10, 12, 106  Katarina, MIDDLE, 6, 9, 1, 110   \n",
       "\n",
       "                         player_9                         player_10  \\\n",
       "0      Kaisa, BOTTOM, 1, 6, 2, 73    Nautilus, UTILITY, 0, 7, 2, 24   \n",
       "1     Senna, UTILITY, 2, 7, 6, 20  MonkeyKing, BOTTOM, 2, 8, 3, 111   \n",
       "2    KogMaw, BOTTOM, 6, 3, 8, 145      Karma, UTILITY, 3, 3, 15, 21   \n",
       "3   Kalista, BOTTOM, 3, 4, 7, 177        Zyra, UTILITY, 3, 3, 5, 11   \n",
       "4    Senna, UTILITY, 12, 6, 8, 47      Maokai, BOTTOM, 1, 7, 14, 83   \n",
       "5   KogMaw, BOTTOM, 15, 4, 8, 186       Lulu, UTILITY, 3, 3, 20, 27   \n",
       "6  Kalista, BOTTOM, 27, 3, 8, 245      Leona, UTILITY, 2, 7, 28, 30   \n",
       "7     Samira, BOTTOM, 0, 4, 0, 87       Zilean, UTILITY, 1, 2, 0, 8   \n",
       "8   Kaisa, BOTTOM, 22, 3, 10, 247      Rakan, UTILITY, 3, 4, 35, 38   \n",
       "9  Samira, BOTTOM, 8, 11, 10, 143   Alistar, UTILITY, 1, 12, 11, 21   \n",
       "\n",
       "        bdht_2  win_2  \n",
       "0   0, 0, 1, 0  False  \n",
       "1   0, 2, 0, 2  False  \n",
       "2   0, 2, 2, 7   True  \n",
       "3   0, 1, 1, 2  False  \n",
       "4   1, 1, 1, 8   True  \n",
       "5   1, 4, 1, 6   True  \n",
       "6   1, 2, 1, 8   True  \n",
       "7   0, 0, 1, 0  False  \n",
       "8  1, 4, 1, 10   True  \n",
       "9   0, 1, 0, 1  False  "
      ]
     },
     "metadata": {},
     "execution_count": 211
    }
   ],
   "metadata": {}
  },
  {
   "cell_type": "markdown",
   "source": [
    "* column화\r\n",
    "1. def\r\n",
    "2. 챔이름 검색\r\n",
    "3. 찾으면 그 챔kda등과 아군팀 kda, 적팀 kda로 나누어 따로 column화\r\n",
    "\r\n",
    "* 학습\r\n",
    "1. 위에서 만든 columnize df로 train"
   ],
   "metadata": {}
  },
  {
   "cell_type": "code",
   "execution_count": 212,
   "source": [
    "def dataset(champion, lane=None, tier=None):\r\n",
    "    if tier != None:\r\n",
    "        if type(tier) is list:\r\n",
    "            n = 0\r\n",
    "            for i in range(len(tier)):\r\n",
    "                isTier = (df['rank'] == tier[i])\r\n",
    "                if n == 0:\r\n",
    "                    tier_df = df[isTier]\r\n",
    "                    n += 1\r\n",
    "                else:\r\n",
    "                    tier_df = pd.concat([tier_df, df[isTier]], axis=0, ignore_index=True)\r\n",
    "        else:\r\n",
    "            isTier = (df['rank'] == tier)\r\n",
    "            tier_df = df[isTier]\r\n",
    "    else:\r\n",
    "        tier_df = df\r\n",
    "    \r\n",
    "    tier = tier_df['rank']\r\n",
    "    team1_df = tier_df.iloc[:, 3:10]\r\n",
    "    team1_df = pd.concat([tier, team1_df], axis=1)\r\n",
    "    team2_df = tier_df.iloc[:, 10:17]\r\n",
    "    team2_df = pd.concat([tier, team2_df], axis=1)\r\n",
    "\r\n",
    "\r\n",
    "    team2_df.rename(columns={\r\n",
    "            \"rank\": \"rank\",\r\n",
    "            \"player_6\": \"player_1\",\r\n",
    "            \"player_7\": \"player_2\",\r\n",
    "            \"player_8\": \"player_3\",\r\n",
    "            \"player_9\": \"player_4\",\r\n",
    "            \"player_10\": \"player_5\",\r\n",
    "            \"bdht_2\": \"bdht_1\",\r\n",
    "            \"win_2\": \"win_1\"\r\n",
    "    }, inplace=True)\r\n",
    "\r\n",
    "\r\n",
    "    fn_df = pd.concat([team1_df, team2_df], axis=0, ignore_index=True)\r\n",
    "\r\n",
    "    dataset = pd.DataFrame(columns=[\r\n",
    "            'rank', 'lane', 'kills', 'deaths', 'assists', 'cs', 'barons', 'dragons', 'heralds', 'towers', 'win'\r\n",
    "        ])\r\n",
    "\r\n",
    "    for i in range(len(fn_df)):\r\n",
    "        tier = fn_df.iloc[i, 0]\r\n",
    "        team_df = fn_df.iloc[i, 6].split(',')\r\n",
    "\r\n",
    "        for j in range(5):\r\n",
    "            champ_df = fn_df.iloc[i, j+1].split(',')\r\n",
    "\r\n",
    "            if champ_df[0] == champion:\r\n",
    "                if lane == None:\r\n",
    "                    position = champ_df[1].strip()      # str\r\n",
    "                else:\r\n",
    "                    if lane == champ_df[1].strip():\r\n",
    "                        position = champ_df[1].strip()      # str\r\n",
    "                    else:\r\n",
    "                        continue\r\n",
    "                kills = champ_df[2]         # int\r\n",
    "                deaths = champ_df[3]        # int\r\n",
    "                assists = champ_df[4]       # int\r\n",
    "                cs = champ_df[5]            # int\r\n",
    "                barons = team_df[0]         # int\r\n",
    "                dragons = team_df[1]        # int\r\n",
    "                heralds = team_df[2]        # int\r\n",
    "                towers = team_df[3]         # int\r\n",
    "                win = fn_df.iloc[i, 7]      # bool\r\n",
    "\r\n",
    "                dataset.loc[len(dataset)] = [tier, position, kills, deaths, assists, cs, barons, dragons, heralds, towers, win]\r\n",
    "    \r\n",
    "    return dataset\r\n",
    "\r\n",
    "dataset(\"Lux\", lane=\"MIDDLE\")\r\n",
    "# tier = 단일 / [n1, n2, ...]\r\n",
    "# lane = None / 지정(단일)"
   ],
   "outputs": [
    {
     "output_type": "execute_result",
     "data": {
      "text/html": [
       "<div>\n",
       "<style scoped>\n",
       "    .dataframe tbody tr th:only-of-type {\n",
       "        vertical-align: middle;\n",
       "    }\n",
       "\n",
       "    .dataframe tbody tr th {\n",
       "        vertical-align: top;\n",
       "    }\n",
       "\n",
       "    .dataframe thead th {\n",
       "        text-align: right;\n",
       "    }\n",
       "</style>\n",
       "<table border=\"1\" class=\"dataframe\">\n",
       "  <thead>\n",
       "    <tr style=\"text-align: right;\">\n",
       "      <th></th>\n",
       "      <th>rank</th>\n",
       "      <th>lane</th>\n",
       "      <th>kills</th>\n",
       "      <th>deaths</th>\n",
       "      <th>assists</th>\n",
       "      <th>cs</th>\n",
       "      <th>barons</th>\n",
       "      <th>dragons</th>\n",
       "      <th>heralds</th>\n",
       "      <th>towers</th>\n",
       "      <th>win</th>\n",
       "    </tr>\n",
       "  </thead>\n",
       "  <tbody>\n",
       "    <tr>\n",
       "      <th>0</th>\n",
       "      <td>DIAMOND-III</td>\n",
       "      <td>MIDDLE</td>\n",
       "      <td>2</td>\n",
       "      <td>0</td>\n",
       "      <td>6</td>\n",
       "      <td>158</td>\n",
       "      <td>0</td>\n",
       "      <td>2</td>\n",
       "      <td>2</td>\n",
       "      <td>4</td>\n",
       "      <td>True</td>\n",
       "    </tr>\n",
       "    <tr>\n",
       "      <th>1</th>\n",
       "      <td>DIAMOND-III</td>\n",
       "      <td>MIDDLE</td>\n",
       "      <td>1</td>\n",
       "      <td>4</td>\n",
       "      <td>6</td>\n",
       "      <td>114</td>\n",
       "      <td>1</td>\n",
       "      <td>2</td>\n",
       "      <td>2</td>\n",
       "      <td>9</td>\n",
       "      <td>True</td>\n",
       "    </tr>\n",
       "    <tr>\n",
       "      <th>2</th>\n",
       "      <td>DIAMOND-III</td>\n",
       "      <td>MIDDLE</td>\n",
       "      <td>1</td>\n",
       "      <td>3</td>\n",
       "      <td>0</td>\n",
       "      <td>120</td>\n",
       "      <td>0</td>\n",
       "      <td>0</td>\n",
       "      <td>0</td>\n",
       "      <td>1</td>\n",
       "      <td>False</td>\n",
       "    </tr>\n",
       "    <tr>\n",
       "      <th>3</th>\n",
       "      <td>DIAMOND-III</td>\n",
       "      <td>MIDDLE</td>\n",
       "      <td>4</td>\n",
       "      <td>5</td>\n",
       "      <td>8</td>\n",
       "      <td>135</td>\n",
       "      <td>0</td>\n",
       "      <td>1</td>\n",
       "      <td>0</td>\n",
       "      <td>0</td>\n",
       "      <td>False</td>\n",
       "    </tr>\n",
       "    <tr>\n",
       "      <th>4</th>\n",
       "      <td>DIAMOND-IV</td>\n",
       "      <td>MIDDLE</td>\n",
       "      <td>1</td>\n",
       "      <td>5</td>\n",
       "      <td>4</td>\n",
       "      <td>103</td>\n",
       "      <td>0</td>\n",
       "      <td>0</td>\n",
       "      <td>0</td>\n",
       "      <td>0</td>\n",
       "      <td>False</td>\n",
       "    </tr>\n",
       "    <tr>\n",
       "      <th>...</th>\n",
       "      <td>...</td>\n",
       "      <td>...</td>\n",
       "      <td>...</td>\n",
       "      <td>...</td>\n",
       "      <td>...</td>\n",
       "      <td>...</td>\n",
       "      <td>...</td>\n",
       "      <td>...</td>\n",
       "      <td>...</td>\n",
       "      <td>...</td>\n",
       "      <td>...</td>\n",
       "    </tr>\n",
       "    <tr>\n",
       "      <th>966</th>\n",
       "      <td>BRONZE-IV</td>\n",
       "      <td>MIDDLE</td>\n",
       "      <td>1</td>\n",
       "      <td>9</td>\n",
       "      <td>4</td>\n",
       "      <td>90</td>\n",
       "      <td>0</td>\n",
       "      <td>1</td>\n",
       "      <td>0</td>\n",
       "      <td>0</td>\n",
       "      <td>False</td>\n",
       "    </tr>\n",
       "    <tr>\n",
       "      <th>967</th>\n",
       "      <td>BRONZE-IV</td>\n",
       "      <td>MIDDLE</td>\n",
       "      <td>7</td>\n",
       "      <td>6</td>\n",
       "      <td>13</td>\n",
       "      <td>168</td>\n",
       "      <td>0</td>\n",
       "      <td>2</td>\n",
       "      <td>0</td>\n",
       "      <td>9</td>\n",
       "      <td>False</td>\n",
       "    </tr>\n",
       "    <tr>\n",
       "      <th>968</th>\n",
       "      <td>BRONZE-IV</td>\n",
       "      <td>MIDDLE</td>\n",
       "      <td>2</td>\n",
       "      <td>6</td>\n",
       "      <td>9</td>\n",
       "      <td>136</td>\n",
       "      <td>1</td>\n",
       "      <td>4</td>\n",
       "      <td>1</td>\n",
       "      <td>10</td>\n",
       "      <td>True</td>\n",
       "    </tr>\n",
       "    <tr>\n",
       "      <th>969</th>\n",
       "      <td>BRONZE-IV</td>\n",
       "      <td>MIDDLE</td>\n",
       "      <td>7</td>\n",
       "      <td>10</td>\n",
       "      <td>6</td>\n",
       "      <td>138</td>\n",
       "      <td>0</td>\n",
       "      <td>2</td>\n",
       "      <td>0</td>\n",
       "      <td>9</td>\n",
       "      <td>True</td>\n",
       "    </tr>\n",
       "    <tr>\n",
       "      <th>970</th>\n",
       "      <td>BRONZE-IV</td>\n",
       "      <td>MIDDLE</td>\n",
       "      <td>7</td>\n",
       "      <td>7</td>\n",
       "      <td>13</td>\n",
       "      <td>120</td>\n",
       "      <td>0</td>\n",
       "      <td>2</td>\n",
       "      <td>0</td>\n",
       "      <td>2</td>\n",
       "      <td>False</td>\n",
       "    </tr>\n",
       "  </tbody>\n",
       "</table>\n",
       "<p>971 rows × 11 columns</p>\n",
       "</div>"
      ],
      "text/plain": [
       "            rank    lane kills deaths assists    cs barons dragons heralds  \\\n",
       "0    DIAMOND-III  MIDDLE     2      0       6   158      0       2       2   \n",
       "1    DIAMOND-III  MIDDLE     1      4       6   114      1       2       2   \n",
       "2    DIAMOND-III  MIDDLE     1      3       0   120      0       0       0   \n",
       "3    DIAMOND-III  MIDDLE     4      5       8   135      0       1       0   \n",
       "4     DIAMOND-IV  MIDDLE     1      5       4   103      0       0       0   \n",
       "..           ...     ...   ...    ...     ...   ...    ...     ...     ...   \n",
       "966    BRONZE-IV  MIDDLE     1      9       4    90      0       1       0   \n",
       "967    BRONZE-IV  MIDDLE     7      6      13   168      0       2       0   \n",
       "968    BRONZE-IV  MIDDLE     2      6       9   136      1       4       1   \n",
       "969    BRONZE-IV  MIDDLE     7     10       6   138      0       2       0   \n",
       "970    BRONZE-IV  MIDDLE     7      7      13   120      0       2       0   \n",
       "\n",
       "    towers    win  \n",
       "0        4   True  \n",
       "1        9   True  \n",
       "2        1  False  \n",
       "3        0  False  \n",
       "4        0  False  \n",
       "..     ...    ...  \n",
       "966      0  False  \n",
       "967      9  False  \n",
       "968     10   True  \n",
       "969      9   True  \n",
       "970      2  False  \n",
       "\n",
       "[971 rows x 11 columns]"
      ]
     },
     "metadata": {},
     "execution_count": 212
    }
   ],
   "metadata": {}
  },
  {
   "cell_type": "markdown",
   "source": [
    "## SGD classifier"
   ],
   "metadata": {}
  },
  {
   "cell_type": "code",
   "execution_count": 213,
   "source": [
    "from sklearn.linear_model import SGDClassifier\r\n",
    "from sklearn.model_selection import train_test_split\r\n",
    "from sklearn.preprocessing import MinMaxScaler"
   ],
   "outputs": [],
   "metadata": {}
  },
  {
   "cell_type": "code",
   "execution_count": 214,
   "source": [
    "example_set = dataset(\"Lux\", lane=\"MIDDLE\")\r\n",
    "def tt_split(dataset):\r\n",
    "    X_train, X_test, y_train, y_test = \\\r\n",
    "        train_test_split(dataset.iloc[:, 2:-1], dataset.iloc[:, -1], train_size=0.8, random_state=42, stratify=dataset.iloc[:, [-1]], shuffle=True)\r\n",
    "    y_train = y_train.astype('bool')\r\n",
    "    y_test = y_test.astype('bool')\r\n",
    "    mm_scaler = MinMaxScaler()\r\n",
    "    mm_scaler.fit(X_train)\r\n",
    "    X_train_scaled = mm_scaler.transform(X_train)\r\n",
    "    X_test_scaled = mm_scaler.transform(X_test)\r\n",
    "    return X_train_scaled, X_test_scaled, y_train, y_test\r\n",
    "\r\n",
    "X_train, X_test, y_train, y_test = tt_split(example_set)\r\n",
    "# y_train = y_train.astype('bool')\r\n",
    "# y_test = y_test.astype('bool')\r\n",
    "y_train\r\n"
   ],
   "outputs": [
    {
     "output_type": "execute_result",
     "data": {
      "text/plain": [
       "113     True\n",
       "727    False\n",
       "594    False\n",
       "262    False\n",
       "409    False\n",
       "       ...  \n",
       "679    False\n",
       "75     False\n",
       "214     True\n",
       "859    False\n",
       "329    False\n",
       "Name: win, Length: 776, dtype: bool"
      ]
     },
     "metadata": {},
     "execution_count": 214
    }
   ],
   "metadata": {}
  },
  {
   "cell_type": "code",
   "execution_count": 215,
   "source": [
    "sgd_clf = SGDClassifier(random_state=42)\r\n",
    "sgd_clf.fit(X_train, y_train)"
   ],
   "outputs": [
    {
     "output_type": "execute_result",
     "data": {
      "text/plain": [
       "SGDClassifier(random_state=42)"
      ]
     },
     "metadata": {},
     "execution_count": 215
    }
   ],
   "metadata": {}
  },
  {
   "cell_type": "code",
   "execution_count": 216,
   "source": [
    "sgd_clf.predict(X_test)"
   ],
   "outputs": [
    {
     "output_type": "execute_result",
     "data": {
      "text/plain": [
       "array([False,  True, False,  True,  True, False, False,  True, False,\n",
       "       False, False, False, False, False, False,  True, False,  True,\n",
       "        True,  True, False, False,  True,  True, False,  True, False,\n",
       "       False,  True, False, False,  True,  True,  True, False, False,\n",
       "       False,  True,  True, False,  True,  True,  True, False, False,\n",
       "       False, False,  True, False, False,  True, False, False, False,\n",
       "        True, False, False, False,  True, False,  True, False, False,\n",
       "        True, False,  True,  True, False,  True,  True, False,  True,\n",
       "       False,  True, False,  True,  True,  True,  True,  True, False,\n",
       "       False, False,  True,  True, False, False, False,  True, False,\n",
       "        True, False,  True,  True, False,  True,  True, False, False,\n",
       "        True,  True, False, False, False,  True,  True, False, False,\n",
       "       False, False,  True,  True, False,  True, False,  True, False,\n",
       "       False, False, False,  True, False,  True,  True, False, False,\n",
       "        True,  True,  True, False,  True,  True,  True, False,  True,\n",
       "        True,  True, False, False, False,  True,  True, False, False,\n",
       "       False,  True, False,  True,  True, False, False,  True,  True,\n",
       "        True, False,  True, False, False,  True,  True, False, False,\n",
       "       False,  True, False,  True, False,  True, False,  True,  True,\n",
       "        True,  True,  True, False,  True, False,  True,  True, False,\n",
       "        True, False,  True, False, False, False, False,  True, False,\n",
       "        True,  True,  True, False,  True,  True])"
      ]
     },
     "metadata": {},
     "execution_count": 216
    }
   ],
   "metadata": {}
  },
  {
   "cell_type": "code",
   "execution_count": 217,
   "source": [
    "from sklearn.model_selection import cross_val_score\r\n",
    "cross_val_score(sgd_clf, X_train, y_train, cv=3, scoring='accuracy')"
   ],
   "outputs": [
    {
     "output_type": "execute_result",
     "data": {
      "text/plain": [
       "array([0.79150579, 0.88803089, 0.91085271])"
      ]
     },
     "metadata": {},
     "execution_count": 217
    }
   ],
   "metadata": {}
  },
  {
   "cell_type": "markdown",
   "source": [
    "## Confusion matrix"
   ],
   "metadata": {}
  },
  {
   "cell_type": "code",
   "execution_count": 218,
   "source": [
    "from sklearn.model_selection import cross_val_predict\r\n",
    "y_train_pred = cross_val_predict(sgd_clf, X_train, y_train, cv=3)"
   ],
   "outputs": [],
   "metadata": {}
  },
  {
   "cell_type": "code",
   "execution_count": 219,
   "source": [
    "from sklearn.metrics import confusion_matrix\r\n",
    "confusion_matrix(y_train, y_train_pred)"
   ],
   "outputs": [
    {
     "output_type": "execute_result",
     "data": {
      "text/plain": [
       "array([[313,  90],\n",
       "       [ 16, 357]], dtype=int64)"
      ]
     },
     "metadata": {},
     "execution_count": 219
    }
   ],
   "metadata": {}
  },
  {
   "cell_type": "code",
   "execution_count": 220,
   "source": [
    "# Precision, Recall, F1\r\n",
    "from sklearn.metrics import precision_score, recall_score, f1_score\r\n",
    "\r\n",
    "precision_score(y_train, y_train_pred)\r\n"
   ],
   "outputs": [
    {
     "output_type": "execute_result",
     "data": {
      "text/plain": [
       "0.7986577181208053"
      ]
     },
     "metadata": {},
     "execution_count": 220
    }
   ],
   "metadata": {}
  },
  {
   "cell_type": "code",
   "execution_count": 221,
   "source": [
    "recall_score(y_train, y_train_pred)"
   ],
   "outputs": [
    {
     "output_type": "execute_result",
     "data": {
      "text/plain": [
       "0.9571045576407506"
      ]
     },
     "metadata": {},
     "execution_count": 221
    }
   ],
   "metadata": {}
  },
  {
   "cell_type": "code",
   "execution_count": 222,
   "source": [
    "f1_score(y_train, y_train_pred)"
   ],
   "outputs": [
    {
     "output_type": "execute_result",
     "data": {
      "text/plain": [
       "0.8707317073170731"
      ]
     },
     "metadata": {},
     "execution_count": 222
    }
   ],
   "metadata": {}
  },
  {
   "cell_type": "code",
   "execution_count": 223,
   "source": [
    "y_scores = cross_val_predict(sgd_clf, X_train, y_train, cv=3, method='decision_function')"
   ],
   "outputs": [],
   "metadata": {}
  },
  {
   "cell_type": "code",
   "execution_count": 224,
   "source": [
    "from sklearn.metrics import precision_recall_curve\r\n",
    "\r\n",
    "precisions, recalls, thresholds = precision_recall_curve(y_train, y_scores)\r\n",
    "f1_scores = 2 / ((1/precisions) + (1/recalls))"
   ],
   "outputs": [
    {
     "output_type": "stream",
     "name": "stderr",
     "text": [
      "<ipython-input-224-eb786d289686>:4: RuntimeWarning: divide by zero encountered in true_divide\n",
      "  f1_scores = 2 / ((1/precisions) + (1/recalls))\n"
     ]
    }
   ],
   "metadata": {}
  },
  {
   "cell_type": "code",
   "execution_count": 225,
   "source": [
    "def plot_pr_vs_threshold(precisions, recalls, thresholds):\r\n",
    "    plt.plot(thresholds, precisions[:-1], \"b--\", label='Precision', linewidth=2)\r\n",
    "    plt.plot(thresholds, recalls[:-1], \"g--\", label=\"Recall\", linewidth=2)\r\n",
    "    plt.plot(thresholds, f1_scores[:-1], \"k--\", label=\"f1 score\", linewidth=2)\r\n",
    "    plt.legend(loc='center right', fontsize=16)\r\n",
    "    plt.xlabel(\"Threshold\", fontsize=16)\r\n",
    "    plt.grid(True)\r\n",
    "    plt.axis([np.min(thresholds), np.max(thresholds), 0 ,1])\r\n",
    "\r\n",
    "plt.figure(figsize=(8, 4))\r\n",
    "plot_pr_vs_threshold(precisions, recalls, thresholds)\r\n",
    "\r\n",
    "# Where is P == R?\r\n",
    "precision_eq = precisions[np.argmin(np.abs(precisions-recalls))]\r\n",
    "recall_eq = recalls[np.argmin(np.abs(precisions-recalls))]\r\n",
    "threshold_eq = thresholds[np.argmin(np.abs(precisions-recalls))]\r\n",
    "\r\n",
    "plt.plot([threshold_eq, threshold_eq], [0, recall_eq], \"k:\")\r\n",
    "plt.plot([np.min(thresholds), threshold_eq], [recall_eq, recall_eq], \"r:\")\r\n",
    "plt.plot([threshold_eq], [recall_eq], \"ro\")\r\n",
    "plt.show()\r\n",
    "\r\n",
    "print(f\"Precision: {precision_eq} \\\r\n",
    "    \\nRecall: {recall_eq} \\\r\n",
    "    \\nThreshold: {threshold_eq}\")"
   ],
   "outputs": [
    {
     "output_type": "display_data",
     "data": {
      "image/png": "[encoded data removed]",
      "text/plain": [
       "<Figure size 576x288 with 1 Axes>"
      ]
     },
     "metadata": {
      "needs_background": "light"
     }
    },
    {
     "output_type": "stream",
     "name": "stdout",
     "text": [
      "Precision: 0.8793565683646113     \n",
      "Recall: 0.8793565683646113     \n",
      "Threshold: 1.6336780193660543\n"
     ]
    }
   ],
   "metadata": {}
  },
  {
   "cell_type": "code",
   "execution_count": 226,
   "source": [
    "def plot_p_vs_r(precisons, recalls):\r\n",
    "    plt.plot(recalls, precisions, \"b--\", linewidth=2)\r\n",
    "    plt.xlabel(\"Recall\", fontsize=16)\r\n",
    "    plt.ylabel(\"Precisions\", fontsize=16)\r\n",
    "    plt.axis([0,1,0,1])\r\n",
    "    plt.grid(True)\r\n",
    "\r\n",
    "plt.figure(figsize=(8,6))\r\n",
    "plot_p_vs_r(precisions, recalls)\r\n",
    "plt.plot([recall_eq, recall_eq], [precision_eq, precision_eq], \"ro\")\r\n",
    "plt.plot([recall_eq, recall_eq], [0, precision_eq], \"r:\", linewidth=2)\r\n",
    "plt.plot([0, recall_eq], [precision_eq, precision_eq], \"r:\", linewidth=2)\r\n",
    "\r\n",
    "plt.show()\r\n"
   ],
   "outputs": [
    {
     "output_type": "display_data",
     "data": {
      "image/png": "[encoded data removed]",
      "text/plain": [
       "<Figure size 576x432 with 1 Axes>"
      ]
     },
     "metadata": {
      "needs_background": "light"
     }
    }
   ],
   "metadata": {}
  },
  {
   "cell_type": "code",
   "execution_count": 227,
   "source": [
    "from sklearn.metrics import roc_curve, roc_auc_score\r\n",
    "\r\n",
    "# AUC score\r\n",
    "fpr, tpr, thresholds_roc = roc_curve(y_train, y_scores)\r\n",
    "auc = roc_auc_score(y_train, y_scores)"
   ],
   "outputs": [],
   "metadata": {}
  },
  {
   "cell_type": "code",
   "execution_count": 228,
   "source": [
    "def plot_roc_curve(fpr, tpr, label=None):\r\n",
    "    plt.plot(fpr, tpr, linewidth=2, label=label)\r\n",
    "    plt.plot([0,1],[0,1],'k--')\r\n",
    "    plt.axis([0,1,0,1])\r\n",
    "    plt.xlabel(\"FP rate\", fontsize=16)\r\n",
    "    plt.ylabel(\"TP rate\", fontsize=16)\r\n",
    "    plt.grid(True)\r\n",
    "\r\n",
    "fpr_eq = fpr[np.argmax(np.abs(fpr-tpr))]\r\n",
    "tpr_eq = tpr[np.argmax(np.abs(fpr-tpr))]\r\n",
    "\r\n",
    "plt.figure(figsize=(8,6))\r\n",
    "plot_roc_curve(fpr, tpr)\r\n",
    "plt.plot([fpr_eq], [tpr_eq], \"ro\")\r\n",
    "plt.plot([fpr_eq, fpr_eq], [0, tpr_eq], \"r:\")\r\n",
    "plt.plot([0, fpr_eq], [tpr_eq, tpr_eq], \"r:\")\r\n",
    "plt.plot()\r\n",
    "plt.show()\r\n",
    "\r\n",
    "print(f\"AUC score: {auc}\")"
   ],
   "outputs": [
    {
     "output_type": "display_data",
     "data": {
      "image/png": "[encoded data removed]",
      "text/plain": [
       "<Figure size 576x432 with 1 Axes>"
      ]
     },
     "metadata": {
      "needs_background": "light"
     }
    },
    {
     "output_type": "stream",
     "name": "stdout",
     "text": [
      "AUC score: 0.9481170045037554\n"
     ]
    }
   ],
   "metadata": {}
  },
  {
   "cell_type": "code",
   "execution_count": 229,
   "source": [
    "y_scores"
   ],
   "outputs": [
    {
     "output_type": "execute_result",
     "data": {
      "text/plain": [
       "array([  7.43325764,  -4.00615012,   0.79856025,   0.68232852,\n",
       "        -2.91434827,  10.7508323 ,  -0.45191319,   9.12511445,\n",
       "         5.13715475,   0.48237909,  10.45174767,   8.22467398,\n",
       "         2.06245226,   9.45051297,  -1.5956821 ,   8.99365455,\n",
       "         8.82579538,   6.84871617,  -2.63855671,   3.89575073,\n",
       "         0.36228552,   5.2881106 ,   6.66238878,   5.69083402,\n",
       "         8.12738862,   6.75272601,   9.32503126,   0.13665826,\n",
       "         1.39880288,   7.100388  ,   4.11361558,   6.28394607,\n",
       "         9.2630287 ,  -1.06953336,   0.82377328,   3.54478665,\n",
       "         1.69635212,  -4.22944095,   0.39326575,   6.81237761,\n",
       "         9.6602969 ,   6.48564338,   7.07735364,  -4.2642349 ,\n",
       "         7.38954302,  -1.50565518,  -1.40748447,   8.52810865,\n",
       "        -3.36845409,  -2.02536115,   4.99133344,  -3.40746797,\n",
       "        10.32697864,  12.57477053,  11.64918291,  -0.6421873 ,\n",
       "         4.24015884,   6.89120519,   9.6457201 ,   4.09822617,\n",
       "         4.58923058,  -0.10770647,   1.86811993,  -1.1998977 ,\n",
       "         3.28431683,   9.12717097,   3.76478589,  -4.95488326,\n",
       "         3.14307308,   4.24145209,  -4.08645492,   9.10308709,\n",
       "        10.0503365 ,   5.69195999,   3.31037238,   1.15839071,\n",
       "        10.4321735 ,  -1.79088223,   4.6821223 ,   7.00485833,\n",
       "        -2.70824599,   6.07549039,   6.57352097,  10.54806064,\n",
       "         2.77173037,   4.11766981,   1.2971099 ,   5.40644636,\n",
       "         7.62592111,  -1.33625711,  -0.92252979,   5.20160252,\n",
       "        -1.5951816 ,   6.4567231 ,   7.03161919,   2.06956647,\n",
       "        -2.14744003,  -0.30621913,  12.82768033,   1.24443769,\n",
       "         4.34750156,   7.04676773,   2.6690444 ,  -3.27612419,\n",
       "         8.83126775,   8.49157623,  -0.93353432,  14.86105801,\n",
       "         7.25402806,  -2.55410015,  -1.33051193,   6.70665047,\n",
       "         6.4083486 ,  -2.51656765,   0.62006699,   7.51495859,\n",
       "        -2.64587175,   0.06240134,  -2.69744554,   0.27515778,\n",
       "         0.15154208,  -5.77894492,   5.12204555,  -0.13708852,\n",
       "         7.03239136,   8.88245985,  10.38420683,   7.90770683,\n",
       "         2.86740216,  -3.7595095 ,   8.44374286,   4.10675841,\n",
       "         7.98327135,  -4.3543317 ,   7.38637514,  -1.39196837,\n",
       "         2.76602859,  10.23389692,   2.96092876,   5.36487339,\n",
       "         2.9493734 ,   5.99706034,  -1.65790882,   4.74324655,\n",
       "        -0.76348607,   0.31814755,   2.48347196,   5.44647645,\n",
       "        -0.61923873,  -1.17201434,   2.63459587,   6.35423021,\n",
       "         1.38009162,   2.40048601,  -3.61250041,   5.07207553,\n",
       "        -2.58009378,   9.13412405,  -2.52565916,  11.04155926,\n",
       "        11.06580914,   8.81374332,  -1.57092634,   4.27508609,\n",
       "         1.51589741,  -1.59289488,  -0.87015997,  -5.06057611,\n",
       "         7.75628608,   7.6732603 ,  -0.58281137,   0.02968462,\n",
       "        -0.94358743,  -2.11249669,  11.83526849,   7.57775174,\n",
       "         2.83463027,  -0.33673394,  -3.34759059,  -2.29175421,\n",
       "         1.09531743,   4.57809707,  -2.74409987,   6.72497407,\n",
       "        10.18911828,  -3.25658326,   0.67011401,  -0.56175606,\n",
       "        13.24384962,  10.18665623,  -2.66288251,   6.76780166,\n",
       "        -4.14062695,   2.33642164,  12.02786018,   6.75237524,\n",
       "         6.89686105,  -2.12317876,   5.90602812,  10.01838632,\n",
       "        -4.99504648,  -2.60454319,  -1.40376791,   7.05044961,\n",
       "         0.20395794,  -2.73176541,   9.22028288,   5.49717065,\n",
       "         1.43889324,  -6.27982604,  -4.20374576,   4.65116423,\n",
       "         8.47607794,  -0.56779586,   3.24138975,   2.94492956,\n",
       "         6.85404118,  -0.6964653 ,   9.59256403,   8.32505411,\n",
       "         0.988012  ,   4.06466731,   2.96086568,   5.80062959,\n",
       "        10.13603236,   6.21290069,   9.7071166 ,   0.89306686,\n",
       "        -2.7211013 ,  11.27062136,   5.35091399,  -1.76293033,\n",
       "         3.15201032,  -1.69726301,   5.78452135,   6.36970605,\n",
       "         4.10009456,  13.50064722,   3.07351741,   1.21776575,\n",
       "         4.60492315,  -1.00384978,  -2.0747245 ,   3.25188699,\n",
       "        -0.0447211 ,  -3.42028347,   7.39108357,  13.68499836,\n",
       "        -1.92445555,   7.48514105,  -2.08852338,   9.89806297,\n",
       "         8.36425243,  -2.86386986,  -5.32975654,  11.44045859,\n",
       "         3.56957285,   2.37991843,  -7.99186235,   0.60167165,\n",
       "        -2.14221034,   2.59904933,   8.77856091,  -4.50235014,\n",
       "         7.50832034,   2.15825522,   5.67393487,   5.03351075,\n",
       "        -0.30455073,  -7.17357657,   0.86936375,   1.4285111 ,\n",
       "        -6.44912252,   0.71070701,   5.24289803,  -5.01319954,\n",
       "         4.63085878,   7.92319093,  -0.71466943,   5.98349448,\n",
       "        -3.81071976,   8.06048549,   7.59605597,  -4.99298272,\n",
       "         2.49724427,  -4.17856042,  -3.52542136,  -6.00066397,\n",
       "         4.57811727,  -2.9965047 ,   2.41699072,  -3.64817968,\n",
       "         4.42440143,   7.35822223,   2.60929077,  11.73105157,\n",
       "         7.5511757 ,   8.26594164,  -1.71432448,  -3.70250439,\n",
       "         7.07093124,  12.36809526,  -1.45337413,   0.94177005,\n",
       "         6.52275398,  -5.75532661,  -0.41981393,   8.24588482,\n",
       "         4.50124588,  -0.78603999,  -3.59142108,  -3.8112711 ,\n",
       "         5.69639147,   1.35422867,   4.72165728,   8.43253053,\n",
       "         6.93881017,   8.44278958,   3.48268311,  -3.06885223,\n",
       "         0.39636318,   7.91915426,  -1.92667224,  -5.32828065,\n",
       "         1.13903777,   7.26859969,   2.82140056,   0.44335293,\n",
       "         6.32605624,   9.74986115,   7.70392551,   2.58123389,\n",
       "         1.76621265,  -4.33730445,   0.67049686,   7.66657328,\n",
       "        10.36575557,   7.06874605,   9.92193755,  -0.48087841,\n",
       "         2.23472248,   6.1119837 ,   6.20933574,   5.02337691,\n",
       "         3.90320706,  -4.39703669,  -2.13966933,   0.6052734 ,\n",
       "        -3.78631419,   4.87980594,  -2.9819792 ,  -2.89389181,\n",
       "        -2.14643293,   1.72365692,  -3.45541391,  -4.24929521,\n",
       "         5.93021497,   5.08986247,   3.4057033 ,   1.24615301,\n",
       "         3.54694039,   4.00153446,   1.70571035,   6.83044316,\n",
       "         5.31922282,   0.89486938,  -4.99061463,  -0.04669184,\n",
       "         6.93185262,  -4.48125175,  -3.09253257,  -3.63001992,\n",
       "         6.09076605,   4.36870751,   2.59555466,  -2.42887176,\n",
       "         3.41680642,   5.96776376,   4.75978927,   3.2936802 ,\n",
       "         6.9559654 ,  -0.20140321,  -0.48973688,  -3.97249498,\n",
       "         3.95553887,   4.83737215,  -5.60440914,   1.39955998,\n",
       "         2.98993824,   3.9890671 ,   8.7910655 ,  -2.99534393,\n",
       "        -3.0290577 ,   3.60342849,  -6.47798937,   7.41370805,\n",
       "         0.49644032,   4.27495046,   5.32572133,   0.63257264,\n",
       "        -3.41044984,   8.51886646,  -1.23781667,   9.63013203,\n",
       "         5.65750998,  -5.06122281,  -4.1951655 ,  -3.94509348,\n",
       "         3.09962039,  -4.73558035,   3.52005911,  -3.409957  ,\n",
       "        -3.16358768,  -6.5444271 ,   2.59274683,   8.17788903,\n",
       "        -0.78346214,   9.90690022,  -4.33087805,   6.68685107,\n",
       "         7.17324254,  -1.77102818,   2.44716275,   5.87851213,\n",
       "        -4.82048205,   7.96054683,  -6.35166733,   4.22601169,\n",
       "        -5.10746322,   8.46208952,  -5.59885252,   6.45381923,\n",
       "         2.79589435,  -4.08538132,   4.30474191,  -2.61007544,\n",
       "         0.63508429,   1.63131087,  -4.65715486,   2.30261972,\n",
       "        -3.6999736 ,   4.78922733,   4.34247202,  -4.15293009,\n",
       "         5.3518786 ,  -4.99082448,   9.99678203,   3.79324376,\n",
       "         4.86682194,  -1.6202075 ,  -2.06021639,  -2.0539284 ,\n",
       "         1.74844063,   1.05440617,  -4.19190949,  -0.37729283,\n",
       "        -5.87187398,   2.25676638,  -4.404837  ,  -4.21427692,\n",
       "        -2.66018492,  -4.43400632,   3.19928458,   6.62993456,\n",
       "        -2.86726491,  -1.72867757,   4.51003417,   4.4662961 ,\n",
       "        -3.23270297,   1.58525947,  -1.08795828,  -0.46024918,\n",
       "        -5.20565204,   6.40432492,  -6.70748582,   6.23305873,\n",
       "        -1.94203432,   7.42173328,  -4.06666634,  -2.28626736,\n",
       "         2.90179466,   1.1591056 ,   6.54907962,   4.60183986,\n",
       "        -0.90250474,   2.81962841,  -1.61526976,   5.45464732,\n",
       "        -2.54578716,   4.48665442,  -3.69798663,   9.25433594,\n",
       "        -4.12409741,  12.11667908,  -0.43173442,   8.80844094,\n",
       "        -3.56738897,   4.93952576,  -3.9578356 ,   9.75287059,\n",
       "         2.62956157,  -0.33408661,  -3.35568018,  -5.45031512,\n",
       "        -3.41965105,  -1.26308111,  -0.60629498,   3.55946668,\n",
       "         1.11592116,  -0.68583257,  -1.67013079,  -6.95137213,\n",
       "        -1.84201835,  -3.30245612,  -1.57300816,  -2.92322641,\n",
       "        -3.51190093,   3.32422075,   5.71559217,   5.53122616,\n",
       "         3.65630689,   0.6439868 ,   5.53714486,  -4.88159149,\n",
       "         0.31699504,   5.21607807,  -7.47373433,  -1.7240267 ,\n",
       "         2.32591482,   9.02033831,   6.86787566,   3.18719131,\n",
       "        -5.46466368,  -8.18371407,  -0.62179161,   0.71958261,\n",
       "         4.70640829,  -4.82484384,   3.56658176,   2.50042762,\n",
       "        -6.88861373,   7.07038824,   5.22043961,  -4.24584854,\n",
       "        -4.75855041,  -6.03870594,   5.09148927,  -4.46257912,\n",
       "         1.84853127,  -4.56205848,  -2.9414274 ,   6.90383039,\n",
       "         2.56773974,  -7.4898859 ,  -5.60866695,   7.85647669,\n",
       "        -6.90509044,  -3.00619477,   2.93062866,  -4.469975  ,\n",
       "        -1.25936161,   0.38055691,   1.70898863,  -6.83750577,\n",
       "         5.96985575,  -4.75014225,   5.87862686,   0.62607821,\n",
       "        -4.19700427,   2.02517427,  -2.75261659,   6.70438182,\n",
       "        -0.28254077,   6.3901225 ,   6.55340711,   0.21271867,\n",
       "        -5.65125041,  -1.05866847,  -4.44838356,  -5.13417804,\n",
       "         4.22161586,  -6.10322978,  -1.65189673,  -6.10940678,\n",
       "        -5.22931601,  -0.72669812,  -0.80848612,  -6.56242493,\n",
       "        -0.86509996,   2.38196177,   2.11693597,   4.46652096,\n",
       "        -7.34085943,  -1.28903121,  -3.61946202,   6.34948588,\n",
       "        -6.23349205,  -1.27218376,   6.91199363,  -9.66158263,\n",
       "         3.82239858,   1.49309509,  -1.54784804,   2.66795106,\n",
       "        -7.00966021,   6.94225351,  -4.747973  ,  13.15349213,\n",
       "        -4.68745891,   2.34797034,   3.66554376,  -7.61005388,\n",
       "         7.01960992,   8.4465791 ,   0.87322403,   3.727181  ,\n",
       "         7.10898342,  -0.77710309,   4.93157319,   5.5432352 ,\n",
       "        -1.35225883,  -7.33205824,  -5.02001128,   1.21380543,\n",
       "        -1.60852285,  -4.67134546,  -6.48379611,   7.92372324,\n",
       "        -4.91049408,   1.95138484,   5.09875893,   6.42997022,\n",
       "         0.54645498,   6.83988933,  -7.58397693,  -5.82610505,\n",
       "        -6.86108733,  -4.43558159,  -2.09167235,  -3.55765658,\n",
       "         3.21116814,  -5.87607052,   0.03913717,   4.62625646,\n",
       "        -2.37907126,   0.41029887,  -6.59276194,  -5.17793512,\n",
       "         3.54037106,  -2.48847248,   2.09604976,  -6.29080515,\n",
       "        -3.8628192 ,  -6.22666838,   3.47711279,   3.92392223,\n",
       "         7.21625721,   9.93857909,   2.20115361,  -6.52595562,\n",
       "        -4.73175354,  -6.78034715,  -4.22362337,   1.21088026,\n",
       "         2.26725828,   8.22000831,   4.58326257, -10.73794382,\n",
       "       -10.92086029,   4.59420783,   0.83414514,  -2.10702452,\n",
       "        -0.14017443,   6.73613291,  -5.26143965,   5.04377057,\n",
       "        -3.69292119,   4.26352198,  -6.02040518,  -2.89759043,\n",
       "         0.50966758,  -5.69303034,   7.10001464,  -2.0340282 ,\n",
       "        -1.7263833 ,  -3.69325359,  -6.61182212,  -1.25647639,\n",
       "         4.11116798,  -5.93682378,  -5.41003358,  -5.33692682,\n",
       "         4.08178092,   9.25480836,   6.11000689,  -6.66629586,\n",
       "         0.73158728,  -4.22438725,   4.41690952,  -4.20222315,\n",
       "         4.99543417,   4.48847714,   3.98772266,   5.49067877,\n",
       "         1.73264867,  -5.43796233,   5.88849617,  -7.3791846 ,\n",
       "        -6.65509583,  -3.53622358,   0.84917032,  -4.00841796,\n",
       "         3.94479286,   1.1591248 ,  -4.75073648,  -4.9066068 ,\n",
       "        -4.52050404,  -3.5949748 ,  -3.1144555 ,  -9.03504637,\n",
       "        -3.87649209,  -5.69954905,   8.32687814,   3.59318879,\n",
       "       -10.04481278,   6.88373004,  -4.24874992,   8.43253888,\n",
       "        -8.39560077,  -2.50754884,  -0.73301689,  -4.4831898 ,\n",
       "        -3.54188858,  -5.10684486,   1.2743016 ,  -4.17636309,\n",
       "         7.2894336 ,   2.57488183,   9.50751436,  -8.07012572,\n",
       "        -1.09405277,  -4.45781347,  -7.50545358,   1.63367802,\n",
       "         4.49191518,   4.36977695,  -5.32421068,  -5.16614221,\n",
       "         9.37583483,  -6.92810343,  -3.59254457,   4.12530562,\n",
       "         0.078315  ,  -7.28719865,   0.84720225,   0.59243786,\n",
       "         1.43249067,  -6.37424241,  -0.39640881,  -2.99788578,\n",
       "        -5.33997283,   2.56253292,  -6.70872073,  -8.32713485,\n",
       "         6.334022  ,  -5.2685836 ,   7.347924  ,  -2.26634199,\n",
       "         1.00969458,  -5.7636229 ,   0.075251  ,   0.06960638,\n",
       "        -6.75281366,   4.92347885,  -6.59806752,  -5.17042254])"
      ]
     },
     "metadata": {},
     "execution_count": 229
    }
   ],
   "metadata": {}
  },
  {
   "cell_type": "code",
   "execution_count": 230,
   "source": [
    "y_pred = (y_scores >= threshold_eq)\r\n",
    "count_tp = (y_train == y_pred)\r\n",
    "len(count_tp[count_tp == True]) / len(count_tp)"
   ],
   "outputs": [
    {
     "output_type": "execute_result",
     "data": {
      "text/plain": [
       "0.884020618556701"
      ]
     },
     "metadata": {},
     "execution_count": 230
    }
   ],
   "metadata": {}
  },
  {
   "cell_type": "code",
   "execution_count": 231,
   "source": [
    "# Save model\r\n",
    "import pickle\r\n",
    "with open(r'D:\\PythonWorkspace\\gitrepo\\Lux_project\\model\\SGD.pkl', 'wb') as f:\r\n",
    "    pickle.dump(sgd_clf, f)\r\n",
    "\r\n",
    "# import joblib\r\n",
    "# joblib.dump(sgd_clf, r'D:\\PythonWorkspace\\gitrepo\\Lux_project\\model\\SGD.joblib')"
   ],
   "outputs": [],
   "metadata": {}
  },
  {
   "cell_type": "code",
   "execution_count": 232,
   "source": [
    "# Load model\r\n",
    "with open(r'D:\\PythonWorkspace\\gitrepo\\Lux_project\\model\\SGD.pkl', 'rb') as f:\r\n",
    "    sgd_pkl = pickle.load(f)\r\n",
    "\r\n",
    "correct = 0\r\n",
    "total = len(X_test)\r\n",
    "for i in range(total):\r\n",
    "    if sgd_pkl.predict(X_test)[i] == y_test.iloc[i]:\r\n",
    "        correct += 1\r\n",
    "print(\"========== Test model ==========\")\r\n",
    "print(f\"[{correct}/{total}] Acc: {correct/total*100}%\")"
   ],
   "outputs": [
    {
     "output_type": "stream",
     "name": "stdout",
     "text": [
      "========== Test model ==========\n",
      "[176/195] Acc: 90.25641025641026%\n"
     ]
    }
   ],
   "metadata": {}
  },
  {
   "cell_type": "markdown",
   "source": [
    "# For predicting the WIN rate.."
   ],
   "metadata": {}
  },
  {
   "cell_type": "markdown",
   "source": [
    "## Lux, mid, all"
   ],
   "metadata": {}
  },
  {
   "cell_type": "code",
   "execution_count": 250,
   "source": [
    "from sklearn.linear_model import LogisticRegression\r\n",
    "\r\n",
    "# Lux, mid, all-tier\r\n",
    "log_reg_all_v1 = LogisticRegression(random_state=42)\r\n",
    "log_reg_all_v1.fit(X_train, y_train)\r\n",
    "log_reg_all_v1.predict(X_test)"
   ],
   "outputs": [
    {
     "output_type": "execute_result",
     "data": {
      "text/plain": [
       "array([False,  True, False,  True,  True, False, False,  True, False,\n",
       "       False, False, False, False, False, False,  True, False,  True,\n",
       "        True,  True, False, False,  True,  True, False,  True,  True,\n",
       "       False,  True, False, False,  True,  True,  True, False, False,\n",
       "       False,  True,  True, False,  True,  True,  True, False, False,\n",
       "       False, False,  True, False, False,  True, False, False, False,\n",
       "        True, False, False, False,  True, False,  True, False,  True,\n",
       "        True, False,  True,  True, False,  True,  True, False, False,\n",
       "       False,  True, False,  True,  True,  True,  True,  True, False,\n",
       "       False, False,  True,  True, False, False, False,  True, False,\n",
       "        True, False,  True,  True, False,  True,  True, False, False,\n",
       "        True,  True, False, False, False,  True, False, False, False,\n",
       "       False, False,  True,  True, False,  True, False,  True, False,\n",
       "       False, False, False,  True, False,  True,  True, False, False,\n",
       "        True,  True,  True, False,  True,  True,  True, False,  True,\n",
       "        True,  True, False, False, False,  True,  True, False,  True,\n",
       "       False,  True,  True,  True,  True, False,  True,  True,  True,\n",
       "        True, False,  True, False, False,  True,  True, False, False,\n",
       "       False,  True, False,  True, False,  True, False,  True,  True,\n",
       "        True,  True,  True, False, False, False,  True,  True, False,\n",
       "        True, False,  True, False, False,  True, False,  True, False,\n",
       "        True,  True,  True, False,  True,  True])"
      ]
     },
     "metadata": {},
     "execution_count": 250
    }
   ],
   "metadata": {}
  },
  {
   "cell_type": "code",
   "execution_count": 251,
   "source": [
    "# [[loss rate, win rate], ...]\r\n",
    "winrates = [winrate for _, winrate in log_reg.predict_proba(X_test)]\r\n",
    "for winrate in winrates:\r\n",
    "    print(\"Winrate: {:.2f}%\".format(winrate*100))"
   ],
   "outputs": [
    {
     "output_type": "stream",
     "name": "stdout",
     "text": [
      "Winrate: 0.49%\n",
      "Winrate: 85.21%\n",
      "Winrate: 2.53%\n",
      "Winrate: 76.15%\n",
      "Winrate: 95.23%\n",
      "Winrate: 5.32%\n",
      "Winrate: 12.32%\n",
      "Winrate: 97.84%\n",
      "Winrate: 15.03%\n",
      "Winrate: 3.54%\n",
      "Winrate: 4.29%\n",
      "Winrate: 0.27%\n",
      "Winrate: 40.62%\n",
      "Winrate: 6.82%\n",
      "Winrate: 2.65%\n",
      "Winrate: 87.52%\n",
      "Winrate: 4.36%\n",
      "Winrate: 99.67%\n",
      "Winrate: 99.00%\n",
      "Winrate: 58.85%\n",
      "Winrate: 27.18%\n",
      "Winrate: 2.60%\n",
      "Winrate: 99.34%\n",
      "Winrate: 87.66%\n",
      "Winrate: 7.04%\n",
      "Winrate: 96.66%\n",
      "Winrate: 58.67%\n",
      "Winrate: 6.18%\n",
      "Winrate: 99.30%\n",
      "Winrate: 9.79%\n",
      "Winrate: 7.91%\n",
      "Winrate: 97.69%\n",
      "Winrate: 99.11%\n",
      "Winrate: 98.97%\n",
      "Winrate: 3.07%\n",
      "Winrate: 34.75%\n",
      "Winrate: 13.61%\n",
      "Winrate: 92.60%\n",
      "Winrate: 76.59%\n",
      "Winrate: 26.19%\n",
      "Winrate: 92.57%\n",
      "Winrate: 99.64%\n",
      "Winrate: 86.69%\n",
      "Winrate: 35.74%\n",
      "Winrate: 13.84%\n",
      "Winrate: 3.68%\n",
      "Winrate: 22.45%\n",
      "Winrate: 73.74%\n",
      "Winrate: 3.93%\n",
      "Winrate: 4.70%\n",
      "Winrate: 92.99%\n",
      "Winrate: 30.21%\n",
      "Winrate: 0.85%\n",
      "Winrate: 4.40%\n",
      "Winrate: 99.60%\n",
      "Winrate: 2.50%\n",
      "Winrate: 0.31%\n",
      "Winrate: 4.95%\n",
      "Winrate: 98.21%\n",
      "Winrate: 9.81%\n",
      "Winrate: 96.54%\n",
      "Winrate: 6.50%\n",
      "Winrate: 57.33%\n",
      "Winrate: 93.03%\n",
      "Winrate: 16.06%\n",
      "Winrate: 90.96%\n",
      "Winrate: 98.16%\n",
      "Winrate: 2.26%\n",
      "Winrate: 81.77%\n",
      "Winrate: 93.61%\n",
      "Winrate: 2.41%\n",
      "Winrate: 40.01%\n",
      "Winrate: 9.08%\n",
      "Winrate: 96.52%\n",
      "Winrate: 19.85%\n",
      "Winrate: 95.94%\n",
      "Winrate: 93.70%\n",
      "Winrate: 99.28%\n",
      "Winrate: 75.68%\n",
      "Winrate: 97.25%\n",
      "Winrate: 22.86%\n",
      "Winrate: 21.80%\n",
      "Winrate: 26.67%\n",
      "Winrate: 70.81%\n",
      "Winrate: 98.60%\n",
      "Winrate: 7.96%\n",
      "Winrate: 5.07%\n",
      "Winrate: 22.05%\n",
      "Winrate: 96.54%\n",
      "Winrate: 3.77%\n",
      "Winrate: 95.13%\n",
      "Winrate: 4.15%\n",
      "Winrate: 63.03%\n",
      "Winrate: 50.49%\n",
      "Winrate: 6.12%\n",
      "Winrate: 90.70%\n",
      "Winrate: 99.25%\n",
      "Winrate: 6.05%\n",
      "Winrate: 8.09%\n",
      "Winrate: 99.59%\n",
      "Winrate: 98.81%\n",
      "Winrate: 7.55%\n",
      "Winrate: 3.81%\n",
      "Winrate: 8.83%\n",
      "Winrate: 99.24%\n",
      "Winrate: 27.07%\n",
      "Winrate: 3.30%\n",
      "Winrate: 24.63%\n",
      "Winrate: 0.72%\n",
      "Winrate: 10.14%\n",
      "Winrate: 95.54%\n",
      "Winrate: 95.56%\n",
      "Winrate: 3.23%\n",
      "Winrate: 91.99%\n",
      "Winrate: 2.63%\n",
      "Winrate: 93.07%\n",
      "Winrate: 22.93%\n",
      "Winrate: 7.19%\n",
      "Winrate: 1.31%\n",
      "Winrate: 13.21%\n",
      "Winrate: 52.90%\n",
      "Winrate: 6.66%\n",
      "Winrate: 99.43%\n",
      "Winrate: 91.18%\n",
      "Winrate: 5.12%\n",
      "Winrate: 1.09%\n",
      "Winrate: 68.62%\n",
      "Winrate: 80.76%\n",
      "Winrate: 98.38%\n",
      "Winrate: 4.34%\n",
      "Winrate: 52.97%\n",
      "Winrate: 98.69%\n",
      "Winrate: 94.26%\n",
      "Winrate: 2.65%\n",
      "Winrate: 99.46%\n",
      "Winrate: 95.76%\n",
      "Winrate: 98.36%\n",
      "Winrate: 4.26%\n",
      "Winrate: 0.86%\n",
      "Winrate: 39.15%\n",
      "Winrate: 97.15%\n",
      "Winrate: 68.49%\n",
      "Winrate: 1.00%\n",
      "Winrate: 73.51%\n",
      "Winrate: 2.30%\n",
      "Winrate: 67.12%\n",
      "Winrate: 55.93%\n",
      "Winrate: 96.44%\n",
      "Winrate: 80.06%\n",
      "Winrate: 6.79%\n",
      "Winrate: 50.75%\n",
      "Winrate: 97.70%\n",
      "Winrate: 97.15%\n",
      "Winrate: 94.13%\n",
      "Winrate: 12.87%\n",
      "Winrate: 96.66%\n",
      "Winrate: 5.20%\n",
      "Winrate: 0.92%\n",
      "Winrate: 93.50%\n",
      "Winrate: 53.69%\n",
      "Winrate: 6.93%\n",
      "Winrate: 1.76%\n",
      "Winrate: 1.78%\n",
      "Winrate: 96.37%\n",
      "Winrate: 1.13%\n",
      "Winrate: 87.69%\n",
      "Winrate: 0.30%\n",
      "Winrate: 95.61%\n",
      "Winrate: 11.12%\n",
      "Winrate: 97.21%\n",
      "Winrate: 86.44%\n",
      "Winrate: 68.73%\n",
      "Winrate: 98.68%\n",
      "Winrate: 88.41%\n",
      "Winrate: 2.10%\n",
      "Winrate: 45.22%\n",
      "Winrate: 44.70%\n",
      "Winrate: 67.87%\n",
      "Winrate: 93.00%\n",
      "Winrate: 17.99%\n",
      "Winrate: 96.13%\n",
      "Winrate: 3.80%\n",
      "Winrate: 97.01%\n",
      "Winrate: 4.10%\n",
      "Winrate: 4.94%\n",
      "Winrate: 56.72%\n",
      "Winrate: 40.96%\n",
      "Winrate: 99.18%\n",
      "Winrate: 28.09%\n",
      "Winrate: 89.01%\n",
      "Winrate: 78.39%\n",
      "Winrate: 95.69%\n",
      "Winrate: 3.67%\n",
      "Winrate: 96.99%\n",
      "Winrate: 95.61%\n"
     ]
    }
   ],
   "metadata": {}
  },
  {
   "cell_type": "code",
   "execution_count": 252,
   "source": [
    "with open(r'D:\\PythonWorkspace\\gitrepo\\Lux_project\\model\\lrg_v1.pkl', 'wb') as f:\r\n",
    "    pickle.dump(log_reg_all_v1, f)"
   ],
   "outputs": [],
   "metadata": {}
  },
  {
   "cell_type": "markdown",
   "source": [
    "lrg_clf.predict() -> bool \\\r\n",
    "lrg_clf.predict_proba() -> [[Lose rate, win rate], ...]"
   ],
   "metadata": {}
  },
  {
   "cell_type": "code",
   "execution_count": 253,
   "source": [
    "cross_val_score(log_reg_all_v1, X_train, y_train, cv=3, scoring='accuracy')"
   ],
   "outputs": [
    {
     "output_type": "execute_result",
     "data": {
      "text/plain": [
       "array([0.94980695, 0.94208494, 0.94186047])"
      ]
     },
     "metadata": {},
     "execution_count": 253
    }
   ],
   "metadata": {}
  },
  {
   "cell_type": "code",
   "execution_count": 254,
   "source": [
    "cross_val_predict(log_reg_all_v1, X_train, y_train, cv=3)"
   ],
   "outputs": [
    {
     "output_type": "execute_result",
     "data": {
      "text/plain": [
       "array([ True, False, False, False, False,  True, False,  True,  True,\n",
       "       False,  True,  True, False,  True, False,  True,  True,  True,\n",
       "       False,  True, False,  True,  True,  True,  True,  True,  True,\n",
       "       False, False,  True,  True,  True,  True, False, False, False,\n",
       "       False, False, False,  True,  True,  True,  True, False,  True,\n",
       "       False, False,  True, False, False,  True, False,  True,  True,\n",
       "        True, False,  True,  True,  True,  True,  True, False, False,\n",
       "       False, False,  True,  True, False,  True,  True, False,  True,\n",
       "        True,  True,  True, False,  True, False, False,  True, False,\n",
       "        True,  True,  True, False,  True, False,  True,  True, False,\n",
       "       False,  True, False,  True,  True, False, False, False,  True,\n",
       "       False, False,  True, False, False,  True,  True, False,  True,\n",
       "        True, False, False,  True,  True, False, False,  True, False,\n",
       "       False, False, False, False, False,  True, False,  True,  True,\n",
       "        True,  True, False, False,  True,  True,  True, False,  True,\n",
       "       False,  True,  True, False,  True,  True,  True, False,  True,\n",
       "       False, False,  True,  True, False, False,  True,  True, False,\n",
       "       False, False,  True, False,  True, False,  True,  True,  True,\n",
       "       False, False, False, False, False, False,  True,  True, False,\n",
       "       False, False, False,  True,  True, False, False, False, False,\n",
       "       False,  True, False,  True,  True, False, False, False,  True,\n",
       "        True, False,  True, False, False,  True,  True,  True, False,\n",
       "        True,  True, False, False, False,  True, False, False,  True,\n",
       "       False, False, False, False,  True,  True, False, False,  True,\n",
       "        True, False,  True,  True, False, False,  True,  True,  True,\n",
       "        True,  True, False, False,  True,  True, False,  True, False,\n",
       "        True,  True,  True,  True,  True, False, False, False, False,\n",
       "        True, False, False,  True,  True, False,  True, False,  True,\n",
       "        True, False, False,  True,  True,  True, False, False, False,\n",
       "        True,  True, False,  True,  True,  True,  True, False, False,\n",
       "        True, False, False, False,  True, False,  True,  True, False,\n",
       "        True, False,  True,  True, False,  True, False, False, False,\n",
       "        True, False,  True, False,  True,  True,  True,  True,  True,\n",
       "        True, False, False,  True,  True, False, False,  True, False,\n",
       "       False,  True,  True, False, False, False,  True, False,  True,\n",
       "        True,  True,  True,  True, False, False,  True, False, False,\n",
       "       False,  True,  True,  True,  True,  True,  True,  True,  True,\n",
       "       False,  True,  True,  True,  True,  True, False, False,  True,\n",
       "        True,  True,  True, False, False,  True, False,  True, False,\n",
       "       False, False, False, False, False,  True, False,  True, False,\n",
       "        True,  True,  True,  True,  True, False, False, False,  True,\n",
       "       False, False, False,  True,  True, False, False,  True,  True,\n",
       "        True, False,  True, False, False, False,  True,  True, False,\n",
       "       False,  True,  True,  True, False, False,  True, False,  True,\n",
       "       False,  True,  True, False, False,  True, False,  True,  True,\n",
       "       False, False, False,  True, False,  True, False, False, False,\n",
       "        True,  True, False,  True, False,  True,  True, False,  True,\n",
       "        True, False,  True, False,  True, False,  True, False,  True,\n",
       "        True, False,  True, False, False, False, False,  True, False,\n",
       "        True,  True, False,  True, False,  True,  True,  True, False,\n",
       "       False, False,  True,  True, False, False, False,  True, False,\n",
       "       False, False, False, False,  True, False, False,  True,  True,\n",
       "       False, False, False, False, False,  True, False,  True, False,\n",
       "        True, False, False, False,  True,  True,  True, False,  True,\n",
       "       False,  True, False,  True, False,  True, False,  True, False,\n",
       "        True, False,  True, False,  True,  True, False, False, False,\n",
       "       False, False, False,  True, False, False, False, False, False,\n",
       "       False, False, False, False,  True,  True,  True,  True,  True,\n",
       "        True, False, False,  True, False, False,  True,  True,  True,\n",
       "        True, False, False, False,  True,  True, False,  True,  True,\n",
       "       False,  True,  True, False, False, False,  True, False,  True,\n",
       "       False, False,  True,  True, False, False,  True, False, False,\n",
       "        True, False, False,  True,  True, False,  True, False,  True,\n",
       "       False, False,  True, False,  True, False,  True,  True,  True,\n",
       "       False, False, False, False,  True, False, False, False, False,\n",
       "       False, False, False, False,  True,  True,  True, False,  True,\n",
       "        True,  True, False, False,  True, False,  True,  True, False,\n",
       "        True, False,  True, False,  True, False,  True,  True, False,\n",
       "        True,  True,  True,  True,  True, False,  True,  True, False,\n",
       "       False, False,  True, False, False, False,  True, False,  True,\n",
       "        True,  True, False,  True, False, False, False, False, False,\n",
       "       False,  True, False,  True,  True, False, False, False, False,\n",
       "        True, False,  True, False, False, False,  True,  True,  True,\n",
       "        True,  True, False, False, False, False,  True,  True,  True,\n",
       "        True, False, False,  True,  True, False, False,  True, False,\n",
       "        True, False,  True, False, False,  True, False,  True,  True,\n",
       "       False, False, False,  True,  True, False, False, False,  True,\n",
       "        True,  True, False,  True, False,  True, False,  True,  True,\n",
       "        True,  True,  True, False,  True, False, False, False,  True,\n",
       "       False,  True,  True, False, False, False, False, False, False,\n",
       "       False, False,  True,  True, False,  True, False,  True, False,\n",
       "       False, False, False, False, False,  True, False,  True,  True,\n",
       "        True, False,  True, False, False,  True,  True,  True, False,\n",
       "       False,  True, False, False,  True,  True, False,  True,  True,\n",
       "        True, False,  True, False, False,  True, False, False,  True,\n",
       "       False,  True, False,  True, False,  True,  True, False,  True,\n",
       "       False, False])"
      ]
     },
     "metadata": {},
     "execution_count": 254
    }
   ],
   "metadata": {}
  },
  {
   "cell_type": "markdown",
   "source": [
    "## Lux, mid, silver"
   ],
   "metadata": {}
  },
  {
   "cell_type": "code",
   "execution_count": 255,
   "source": [
    "example_set = dataset(\"Lux\", lane=\"MIDDLE\", tier=[\"SILVER-I\", \"SILVER-II\", \"SILVER-III\", \"SILVER-IV\"])\r\n",
    "\r\n",
    "X_train, X_test, y_train, y_test = tt_split(example_set)\r\n",
    "# y_train = y_train.astype('bool')\r\n",
    "# y_test = y_test.astype('bool')\r\n",
    "y_train"
   ],
   "outputs": [
    {
     "output_type": "execute_result",
     "data": {
      "text/plain": [
       "105     True\n",
       "41      True\n",
       "128    False\n",
       "205     True\n",
       "97     False\n",
       "       ...  \n",
       "143     True\n",
       "25      True\n",
       "192    False\n",
       "247    False\n",
       "132     True\n",
       "Name: win, Length: 248, dtype: bool"
      ]
     },
     "metadata": {},
     "execution_count": 255
    }
   ],
   "metadata": {}
  },
  {
   "cell_type": "code",
   "execution_count": 256,
   "source": [
    "# Lux, mid, silver\r\n",
    "log_reg_silver_v1 = LogisticRegression(random_state=42)\r\n",
    "log_reg_silver_v1.fit(X_train, y_train)\r\n",
    "log_reg_silver_v1.predict(X_test)"
   ],
   "outputs": [
    {
     "output_type": "execute_result",
     "data": {
      "text/plain": [
       "array([False,  True, False,  True,  True, False,  True, False,  True,\n",
       "       False,  True,  True,  True,  True,  True,  True, False,  True,\n",
       "        True,  True,  True, False,  True,  True,  True,  True, False,\n",
       "       False, False, False, False, False,  True, False,  True, False,\n",
       "       False,  True,  True,  True,  True,  True, False,  True, False,\n",
       "        True, False, False, False,  True,  True, False,  True, False,\n",
       "        True, False, False,  True,  True, False, False,  True,  True])"
      ]
     },
     "metadata": {},
     "execution_count": 256
    }
   ],
   "metadata": {}
  },
  {
   "cell_type": "code",
   "execution_count": null,
   "source": [
    "with open(r'D:\\PythonWorkspace\\gitrepo\\Lux_project\\model\\lrg_silver_v1.pkl', 'wb') as f:\r\n",
    "    pickle.dump(log_reg_silver_v1, f)"
   ],
   "outputs": [],
   "metadata": {}
  },
  {
   "cell_type": "markdown",
   "source": [
    "# Add total kills and deaths"
   ],
   "metadata": {}
  },
  {
   "cell_type": "code",
   "execution_count": 108,
   "source": [
    "def dataset_v2(champion, lane=None, tier=None):\r\n",
    "    if tier != None:\r\n",
    "        if type(tier) is list:\r\n",
    "            n = 0\r\n",
    "            for i in range(len(tier)):\r\n",
    "                isTier = (df['rank'] == tier[i])\r\n",
    "                if n == 0:\r\n",
    "                    tier_df = df[isTier]\r\n",
    "                    n += 1\r\n",
    "                else:\r\n",
    "                    tier_df = pd.concat([tier_df, df[isTier]], axis=0, ignore_index=True)\r\n",
    "        else:\r\n",
    "            isTier = (df['rank'] == tier)\r\n",
    "            tier_df = df[isTier]\r\n",
    "    else:\r\n",
    "        tier_df = df\r\n",
    "    \r\n",
    "    tier = tier_df['rank']\r\n",
    "    team1_df = tier_df.iloc[:, 3:10]\r\n",
    "    team1_df = pd.concat([tier, team1_df], axis=1)\r\n",
    "    team2_df = tier_df.iloc[:, 10:17]\r\n",
    "    team2_df = pd.concat([tier, team2_df], axis=1)\r\n",
    "\r\n",
    "\r\n",
    "    team2_df.rename(columns={\r\n",
    "            \"rank\": \"rank\",\r\n",
    "            \"player_6\": \"player_1\",\r\n",
    "            \"player_7\": \"player_2\",\r\n",
    "            \"player_8\": \"player_3\",\r\n",
    "            \"player_9\": \"player_4\",\r\n",
    "            \"player_10\": \"player_5\",\r\n",
    "            \"bdht_2\": \"bdht_1\",\r\n",
    "            \"win_2\": \"win_1\"\r\n",
    "    }, inplace=True)\r\n",
    "\r\n",
    "\r\n",
    "    fn_df = pd.concat([team1_df, team2_df], axis=0, ignore_index=True)\r\n",
    "\r\n",
    "    dataset = pd.DataFrame(columns=[\r\n",
    "            'rank', 'lane', 'kills', 'deaths', 'assists', 'cs', 'barons', 'dragons', 'heralds', 'towers', 'total_kills', 'total_deaths', 'win'\r\n",
    "        ])\r\n",
    "\r\n",
    "    for i in range(len(fn_df)):\r\n",
    "        tier = fn_df.iloc[i, 0]\r\n",
    "        team_df = fn_df.iloc[i, 6].split(',')\r\n",
    "        team_total_kills = 0\r\n",
    "        team_total_deaths = 0\r\n",
    "\r\n",
    "        for k in range(5):\r\n",
    "            champ_df = fn_df.iloc[i, k+1].split(',')\r\n",
    "            team_total_kills += int(champ_df[2])\r\n",
    "            team_total_deaths += int(champ_df[3])\r\n",
    "\r\n",
    "        for j in range(5):\r\n",
    "            champ_df = fn_df.iloc[i, j+1].split(',')\r\n",
    "\r\n",
    "            if champ_df[0] == champion:\r\n",
    "                if lane == None:\r\n",
    "                    position = champ_df[1].strip()      # str\r\n",
    "                else:\r\n",
    "                    if lane == champ_df[1].strip():\r\n",
    "                        position = champ_df[1].strip()      # str\r\n",
    "                    else:\r\n",
    "                        continue\r\n",
    "                kills = champ_df[2]         # int\r\n",
    "                deaths = champ_df[3]        # int\r\n",
    "                assists = champ_df[4]       # int\r\n",
    "                cs = champ_df[5]            # int\r\n",
    "                barons = team_df[0]         # int\r\n",
    "                dragons = team_df[1]        # int\r\n",
    "                heralds = team_df[2]        # int\r\n",
    "                towers = team_df[3]         # int\r\n",
    "                win = fn_df.iloc[i, 7]      # bool\r\n",
    "\r\n",
    "                dataset.loc[len(dataset)] = [tier, position, kills, deaths, assists, cs, barons, dragons, heralds, towers, team_total_kills, team_total_deaths, win]\r\n",
    "    \r\n",
    "    return dataset\r\n",
    "\r\n",
    "dataset_v2(\"Lux\", lane=\"MIDDLE\")\r\n",
    "# tier = 단일 / [n1, n2, ...]\r\n",
    "# lane = None / 지정(단일)"
   ],
   "outputs": [
    {
     "output_type": "execute_result",
     "data": {
      "text/html": [
       "<div>\n",
       "<style scoped>\n",
       "    .dataframe tbody tr th:only-of-type {\n",
       "        vertical-align: middle;\n",
       "    }\n",
       "\n",
       "    .dataframe tbody tr th {\n",
       "        vertical-align: top;\n",
       "    }\n",
       "\n",
       "    .dataframe thead th {\n",
       "        text-align: right;\n",
       "    }\n",
       "</style>\n",
       "<table border=\"1\" class=\"dataframe\">\n",
       "  <thead>\n",
       "    <tr style=\"text-align: right;\">\n",
       "      <th></th>\n",
       "      <th>rank</th>\n",
       "      <th>lane</th>\n",
       "      <th>kills</th>\n",
       "      <th>deaths</th>\n",
       "      <th>assists</th>\n",
       "      <th>cs</th>\n",
       "      <th>barons</th>\n",
       "      <th>dragons</th>\n",
       "      <th>heralds</th>\n",
       "      <th>towers</th>\n",
       "      <th>total_kills</th>\n",
       "      <th>total_deaths</th>\n",
       "      <th>win</th>\n",
       "    </tr>\n",
       "  </thead>\n",
       "  <tbody>\n",
       "    <tr>\n",
       "      <th>0</th>\n",
       "      <td>DIAMOND-III</td>\n",
       "      <td>MIDDLE</td>\n",
       "      <td>2</td>\n",
       "      <td>0</td>\n",
       "      <td>6</td>\n",
       "      <td>158</td>\n",
       "      <td>0</td>\n",
       "      <td>2</td>\n",
       "      <td>2</td>\n",
       "      <td>4</td>\n",
       "      <td>18</td>\n",
       "      <td>8</td>\n",
       "      <td>True</td>\n",
       "    </tr>\n",
       "    <tr>\n",
       "      <th>1</th>\n",
       "      <td>DIAMOND-III</td>\n",
       "      <td>MIDDLE</td>\n",
       "      <td>1</td>\n",
       "      <td>4</td>\n",
       "      <td>6</td>\n",
       "      <td>114</td>\n",
       "      <td>1</td>\n",
       "      <td>2</td>\n",
       "      <td>2</td>\n",
       "      <td>9</td>\n",
       "      <td>21</td>\n",
       "      <td>17</td>\n",
       "      <td>True</td>\n",
       "    </tr>\n",
       "    <tr>\n",
       "      <th>2</th>\n",
       "      <td>DIAMOND-III</td>\n",
       "      <td>MIDDLE</td>\n",
       "      <td>1</td>\n",
       "      <td>3</td>\n",
       "      <td>0</td>\n",
       "      <td>120</td>\n",
       "      <td>0</td>\n",
       "      <td>0</td>\n",
       "      <td>0</td>\n",
       "      <td>1</td>\n",
       "      <td>4</td>\n",
       "      <td>17</td>\n",
       "      <td>False</td>\n",
       "    </tr>\n",
       "    <tr>\n",
       "      <th>3</th>\n",
       "      <td>DIAMOND-III</td>\n",
       "      <td>MIDDLE</td>\n",
       "      <td>4</td>\n",
       "      <td>5</td>\n",
       "      <td>8</td>\n",
       "      <td>135</td>\n",
       "      <td>0</td>\n",
       "      <td>1</td>\n",
       "      <td>0</td>\n",
       "      <td>0</td>\n",
       "      <td>22</td>\n",
       "      <td>29</td>\n",
       "      <td>False</td>\n",
       "    </tr>\n",
       "    <tr>\n",
       "      <th>4</th>\n",
       "      <td>DIAMOND-IV</td>\n",
       "      <td>MIDDLE</td>\n",
       "      <td>1</td>\n",
       "      <td>5</td>\n",
       "      <td>4</td>\n",
       "      <td>103</td>\n",
       "      <td>0</td>\n",
       "      <td>0</td>\n",
       "      <td>0</td>\n",
       "      <td>0</td>\n",
       "      <td>20</td>\n",
       "      <td>32</td>\n",
       "      <td>False</td>\n",
       "    </tr>\n",
       "    <tr>\n",
       "      <th>...</th>\n",
       "      <td>...</td>\n",
       "      <td>...</td>\n",
       "      <td>...</td>\n",
       "      <td>...</td>\n",
       "      <td>...</td>\n",
       "      <td>...</td>\n",
       "      <td>...</td>\n",
       "      <td>...</td>\n",
       "      <td>...</td>\n",
       "      <td>...</td>\n",
       "      <td>...</td>\n",
       "      <td>...</td>\n",
       "      <td>...</td>\n",
       "    </tr>\n",
       "    <tr>\n",
       "      <th>966</th>\n",
       "      <td>BRONZE-IV</td>\n",
       "      <td>MIDDLE</td>\n",
       "      <td>1</td>\n",
       "      <td>9</td>\n",
       "      <td>4</td>\n",
       "      <td>90</td>\n",
       "      <td>0</td>\n",
       "      <td>1</td>\n",
       "      <td>0</td>\n",
       "      <td>0</td>\n",
       "      <td>9</td>\n",
       "      <td>34</td>\n",
       "      <td>False</td>\n",
       "    </tr>\n",
       "    <tr>\n",
       "      <th>967</th>\n",
       "      <td>BRONZE-IV</td>\n",
       "      <td>MIDDLE</td>\n",
       "      <td>7</td>\n",
       "      <td>6</td>\n",
       "      <td>13</td>\n",
       "      <td>168</td>\n",
       "      <td>0</td>\n",
       "      <td>2</td>\n",
       "      <td>0</td>\n",
       "      <td>9</td>\n",
       "      <td>41</td>\n",
       "      <td>34</td>\n",
       "      <td>False</td>\n",
       "    </tr>\n",
       "    <tr>\n",
       "      <th>968</th>\n",
       "      <td>BRONZE-IV</td>\n",
       "      <td>MIDDLE</td>\n",
       "      <td>2</td>\n",
       "      <td>6</td>\n",
       "      <td>9</td>\n",
       "      <td>136</td>\n",
       "      <td>1</td>\n",
       "      <td>4</td>\n",
       "      <td>1</td>\n",
       "      <td>10</td>\n",
       "      <td>29</td>\n",
       "      <td>15</td>\n",
       "      <td>True</td>\n",
       "    </tr>\n",
       "    <tr>\n",
       "      <th>969</th>\n",
       "      <td>BRONZE-IV</td>\n",
       "      <td>MIDDLE</td>\n",
       "      <td>7</td>\n",
       "      <td>10</td>\n",
       "      <td>6</td>\n",
       "      <td>138</td>\n",
       "      <td>0</td>\n",
       "      <td>2</td>\n",
       "      <td>0</td>\n",
       "      <td>9</td>\n",
       "      <td>28</td>\n",
       "      <td>33</td>\n",
       "      <td>True</td>\n",
       "    </tr>\n",
       "    <tr>\n",
       "      <th>970</th>\n",
       "      <td>BRONZE-IV</td>\n",
       "      <td>MIDDLE</td>\n",
       "      <td>7</td>\n",
       "      <td>7</td>\n",
       "      <td>13</td>\n",
       "      <td>120</td>\n",
       "      <td>0</td>\n",
       "      <td>2</td>\n",
       "      <td>0</td>\n",
       "      <td>2</td>\n",
       "      <td>28</td>\n",
       "      <td>41</td>\n",
       "      <td>False</td>\n",
       "    </tr>\n",
       "  </tbody>\n",
       "</table>\n",
       "<p>971 rows × 13 columns</p>\n",
       "</div>"
      ],
      "text/plain": [
       "            rank    lane kills deaths assists    cs barons dragons heralds  \\\n",
       "0    DIAMOND-III  MIDDLE     2      0       6   158      0       2       2   \n",
       "1    DIAMOND-III  MIDDLE     1      4       6   114      1       2       2   \n",
       "2    DIAMOND-III  MIDDLE     1      3       0   120      0       0       0   \n",
       "3    DIAMOND-III  MIDDLE     4      5       8   135      0       1       0   \n",
       "4     DIAMOND-IV  MIDDLE     1      5       4   103      0       0       0   \n",
       "..           ...     ...   ...    ...     ...   ...    ...     ...     ...   \n",
       "966    BRONZE-IV  MIDDLE     1      9       4    90      0       1       0   \n",
       "967    BRONZE-IV  MIDDLE     7      6      13   168      0       2       0   \n",
       "968    BRONZE-IV  MIDDLE     2      6       9   136      1       4       1   \n",
       "969    BRONZE-IV  MIDDLE     7     10       6   138      0       2       0   \n",
       "970    BRONZE-IV  MIDDLE     7      7      13   120      0       2       0   \n",
       "\n",
       "    towers total_kills total_deaths    win  \n",
       "0        4          18            8   True  \n",
       "1        9          21           17   True  \n",
       "2        1           4           17  False  \n",
       "3        0          22           29  False  \n",
       "4        0          20           32  False  \n",
       "..     ...         ...          ...    ...  \n",
       "966      0           9           34  False  \n",
       "967      9          41           34  False  \n",
       "968     10          29           15   True  \n",
       "969      9          28           33   True  \n",
       "970      2          28           41  False  \n",
       "\n",
       "[971 rows x 13 columns]"
      ]
     },
     "metadata": {},
     "execution_count": 108
    }
   ],
   "metadata": {}
  },
  {
   "cell_type": "code",
   "execution_count": 236,
   "source": [
    "example_set = dataset_v2(\"Lux\", lane=\"MIDDLE\")\r\n",
    "\r\n",
    "X_train, X_test, y_train, y_test = tt_split(example_set)"
   ],
   "outputs": [],
   "metadata": {}
  },
  {
   "cell_type": "code",
   "execution_count": 237,
   "source": [
    "log_reg = LogisticRegression(random_state=42)\r\n",
    "log_reg.fit(X_train, y_train)"
   ],
   "outputs": [
    {
     "output_type": "execute_result",
     "data": {
      "text/plain": [
       "LogisticRegression(random_state=42)"
      ]
     },
     "metadata": {},
     "execution_count": 237
    }
   ],
   "metadata": {}
  },
  {
   "cell_type": "code",
   "execution_count": 238,
   "source": [
    "log_reg.predict(X_test)"
   ],
   "outputs": [
    {
     "output_type": "execute_result",
     "data": {
      "text/plain": [
       "array([False,  True, False,  True,  True, False, False,  True, False,\n",
       "       False, False, False, False, False, False,  True, False,  True,\n",
       "        True,  True, False, False,  True,  True, False,  True,  True,\n",
       "       False,  True, False, False,  True,  True,  True, False, False,\n",
       "       False,  True,  True, False,  True,  True,  True, False, False,\n",
       "       False, False,  True, False, False,  True, False, False, False,\n",
       "        True, False, False, False,  True, False,  True, False,  True,\n",
       "        True, False,  True,  True, False,  True,  True, False, False,\n",
       "       False,  True, False,  True,  True,  True,  True,  True, False,\n",
       "       False, False,  True,  True, False, False, False,  True, False,\n",
       "        True, False,  True,  True, False,  True,  True, False, False,\n",
       "        True,  True, False, False, False,  True, False, False, False,\n",
       "       False, False,  True,  True, False,  True, False,  True, False,\n",
       "       False, False, False,  True, False,  True,  True, False, False,\n",
       "        True,  True,  True, False,  True,  True,  True, False,  True,\n",
       "        True,  True, False, False, False,  True,  True, False,  True,\n",
       "       False,  True,  True,  True,  True, False,  True,  True,  True,\n",
       "        True, False,  True, False, False,  True,  True, False, False,\n",
       "       False,  True, False,  True, False,  True, False,  True,  True,\n",
       "        True,  True,  True, False, False, False,  True,  True, False,\n",
       "        True, False,  True, False, False,  True, False,  True, False,\n",
       "        True,  True,  True, False,  True,  True])"
      ]
     },
     "metadata": {},
     "execution_count": 238
    }
   ],
   "metadata": {}
  },
  {
   "cell_type": "code",
   "execution_count": 239,
   "source": [
    "y_scores = cross_val_predict(log_reg, X_train, y_train, cv=3, method='decision_function')"
   ],
   "outputs": [],
   "metadata": {}
  },
  {
   "cell_type": "code",
   "execution_count": 240,
   "source": [
    "precisions, recalls, thresholds = precision_recall_curve(y_train, y_scores)\r\n",
    "f1_scores = 2 / ((1/precisions) + (1/recalls))"
   ],
   "outputs": [
    {
     "output_type": "stream",
     "name": "stderr",
     "text": [
      "<ipython-input-240-54d003dcd177>:2: RuntimeWarning: divide by zero encountered in true_divide\n",
      "  f1_scores = 2 / ((1/precisions) + (1/recalls))\n"
     ]
    }
   ],
   "metadata": {}
  },
  {
   "cell_type": "code",
   "execution_count": 241,
   "source": [
    "plt.figure(figsize=(8, 4))\r\n",
    "plot_pr_vs_threshold(precisions, recalls, thresholds)\r\n",
    "\r\n",
    "# Where is P == R?\r\n",
    "precision_eq = precisions[np.argmin(np.abs(precisions-recalls))]\r\n",
    "recall_eq = recalls[np.argmin(np.abs(precisions-recalls))]\r\n",
    "threshold_eq = thresholds[np.argmin(np.abs(precisions-recalls))]\r\n",
    "\r\n",
    "plt.plot([threshold_eq, threshold_eq], [0, recall_eq], \"k:\")\r\n",
    "plt.plot([np.min(thresholds), threshold_eq], [recall_eq, recall_eq], \"r:\")\r\n",
    "plt.plot([threshold_eq], [recall_eq], \"ro\")\r\n",
    "plt.show()\r\n",
    "\r\n",
    "print(f\"Precision: {precision_eq} \\\r\n",
    "    \\nRecall: {recall_eq} \\\r\n",
    "    \\nThreshold: {threshold_eq}\")"
   ],
   "outputs": [
    {
     "output_type": "display_data",
     "data": {
      "image/png": "[encoded data removed]",
      "text/plain": [
       "<Figure size 576x288 with 1 Axes>"
      ]
     },
     "metadata": {
      "needs_background": "light"
     }
    },
    {
     "output_type": "stream",
     "name": "stdout",
     "text": [
      "Precision: 0.9436997319034852     \n",
      "Recall: 0.9436997319034852     \n",
      "Threshold: 0.13613774189877115\n"
     ]
    }
   ],
   "metadata": {}
  },
  {
   "cell_type": "code",
   "execution_count": 242,
   "source": [
    "y_pred = (y_scores > threshold_eq)\r\n",
    "y_pred"
   ],
   "outputs": [
    {
     "output_type": "execute_result",
     "data": {
      "text/plain": [
       "array([ True, False, False, False, False,  True, False,  True,  True,\n",
       "       False,  True,  True, False,  True, False,  True,  True,  True,\n",
       "       False,  True, False,  True,  True,  True,  True,  True,  True,\n",
       "       False, False,  True,  True,  True,  True, False, False, False,\n",
       "       False, False, False,  True,  True,  True,  True, False,  True,\n",
       "       False, False,  True, False, False,  True, False,  True,  True,\n",
       "        True, False,  True,  True,  True,  True,  True, False, False,\n",
       "       False, False,  True,  True, False,  True,  True, False,  True,\n",
       "        True,  True,  True, False,  True, False, False,  True, False,\n",
       "        True,  True,  True, False,  True, False,  True,  True, False,\n",
       "       False,  True, False,  True,  True, False, False, False,  True,\n",
       "       False, False,  True, False, False,  True,  True, False,  True,\n",
       "        True, False, False,  True,  True, False, False,  True, False,\n",
       "       False, False, False, False, False,  True, False,  True,  True,\n",
       "        True,  True, False, False,  True,  True,  True, False,  True,\n",
       "       False,  True,  True, False,  True,  True,  True, False,  True,\n",
       "       False, False,  True,  True, False, False,  True, False, False,\n",
       "       False, False,  True, False,  True, False,  True,  True,  True,\n",
       "       False, False, False, False, False, False,  True,  True, False,\n",
       "       False, False, False,  True,  True, False, False, False, False,\n",
       "       False,  True, False,  True,  True, False, False, False,  True,\n",
       "        True, False,  True, False, False,  True,  True,  True, False,\n",
       "        True,  True, False, False, False,  True, False, False,  True,\n",
       "       False, False, False, False,  True,  True, False, False,  True,\n",
       "        True, False,  True,  True, False, False,  True,  True,  True,\n",
       "        True,  True, False, False,  True,  True, False,  True, False,\n",
       "        True,  True, False,  True,  True, False, False, False, False,\n",
       "        True, False, False,  True,  True, False,  True, False,  True,\n",
       "        True, False, False,  True,  True, False, False, False, False,\n",
       "        True,  True, False,  True,  True,  True,  True, False, False,\n",
       "        True, False, False, False,  True, False,  True,  True, False,\n",
       "        True, False,  True,  True, False,  True, False, False, False,\n",
       "        True, False, False, False,  True,  True,  True,  True,  True,\n",
       "        True, False, False,  True,  True, False, False,  True, False,\n",
       "       False,  True,  True, False, False, False,  True, False,  True,\n",
       "        True,  True,  True,  True, False, False,  True, False, False,\n",
       "       False,  True,  True,  True,  True,  True,  True,  True,  True,\n",
       "       False,  True,  True,  True,  True,  True, False, False,  True,\n",
       "        True,  True,  True, False, False,  True, False,  True, False,\n",
       "       False, False, False, False, False,  True, False,  True, False,\n",
       "        True,  True,  True,  True,  True, False, False, False,  True,\n",
       "       False, False, False,  True,  True, False, False,  True,  True,\n",
       "        True, False,  True, False, False, False,  True,  True, False,\n",
       "       False,  True,  True,  True, False, False,  True, False,  True,\n",
       "       False,  True,  True, False, False,  True, False,  True,  True,\n",
       "       False, False, False,  True, False,  True, False, False, False,\n",
       "        True,  True, False,  True, False,  True,  True, False,  True,\n",
       "        True, False,  True, False,  True, False,  True, False,  True,\n",
       "        True, False,  True, False, False, False, False,  True, False,\n",
       "        True,  True, False,  True, False,  True,  True,  True, False,\n",
       "       False, False,  True,  True, False, False, False, False, False,\n",
       "       False, False, False, False,  True, False, False,  True,  True,\n",
       "       False, False, False, False, False,  True, False,  True, False,\n",
       "        True, False, False, False,  True,  True,  True, False,  True,\n",
       "       False,  True, False,  True, False,  True, False,  True, False,\n",
       "        True, False,  True, False,  True,  True, False, False, False,\n",
       "       False, False, False,  True, False, False, False, False, False,\n",
       "       False, False, False, False,  True,  True,  True,  True,  True,\n",
       "        True, False, False,  True, False, False,  True,  True,  True,\n",
       "        True, False, False, False,  True,  True, False,  True,  True,\n",
       "       False,  True,  True, False, False, False,  True, False,  True,\n",
       "       False, False,  True,  True, False, False,  True, False, False,\n",
       "        True, False, False,  True,  True, False,  True, False,  True,\n",
       "       False, False,  True, False,  True, False,  True,  True,  True,\n",
       "       False, False, False, False,  True, False, False, False, False,\n",
       "       False, False, False, False,  True,  True,  True, False, False,\n",
       "        True,  True, False, False,  True, False,  True,  True, False,\n",
       "        True, False,  True, False,  True, False,  True,  True, False,\n",
       "        True,  True,  True,  True,  True, False,  True,  True, False,\n",
       "       False, False,  True, False, False, False,  True, False,  True,\n",
       "        True,  True, False,  True, False, False, False, False, False,\n",
       "       False,  True, False,  True,  True, False, False, False, False,\n",
       "        True, False,  True, False, False, False,  True,  True,  True,\n",
       "        True,  True, False, False, False, False,  True,  True,  True,\n",
       "        True, False, False,  True,  True, False, False,  True, False,\n",
       "        True, False,  True, False, False,  True, False,  True,  True,\n",
       "       False, False, False,  True,  True, False, False, False,  True,\n",
       "        True,  True, False,  True, False,  True, False,  True,  True,\n",
       "        True,  True,  True, False,  True, False, False, False,  True,\n",
       "       False,  True,  True, False, False, False, False, False, False,\n",
       "       False, False,  True,  True, False,  True, False,  True, False,\n",
       "       False, False, False, False, False,  True, False,  True,  True,\n",
       "        True, False,  True, False, False,  True,  True,  True, False,\n",
       "       False,  True, False, False,  True,  True, False,  True, False,\n",
       "        True, False,  True, False, False,  True, False, False,  True,\n",
       "       False,  True, False,  True, False,  True, False, False,  True,\n",
       "       False, False])"
      ]
     },
     "metadata": {},
     "execution_count": 242
    }
   ],
   "metadata": {}
  },
  {
   "cell_type": "code",
   "execution_count": 243,
   "source": [
    "precision_score(y_train, y_pred)"
   ],
   "outputs": [
    {
     "output_type": "execute_result",
     "data": {
      "text/plain": [
       "0.946236559139785"
      ]
     },
     "metadata": {},
     "execution_count": 243
    }
   ],
   "metadata": {}
  },
  {
   "cell_type": "code",
   "execution_count": 244,
   "source": [
    "recall_score(y_train, y_pred)"
   ],
   "outputs": [
    {
     "output_type": "execute_result",
     "data": {
      "text/plain": [
       "0.9436997319034852"
      ]
     },
     "metadata": {},
     "execution_count": 244
    }
   ],
   "metadata": {}
  },
  {
   "cell_type": "code",
   "execution_count": 245,
   "source": [
    "f1_score(y_train, y_pred)"
   ],
   "outputs": [
    {
     "output_type": "execute_result",
     "data": {
      "text/plain": [
       "0.9449664429530201"
      ]
     },
     "metadata": {},
     "execution_count": 245
    }
   ],
   "metadata": {}
  },
  {
   "cell_type": "code",
   "execution_count": 246,
   "source": [
    "y_test_score = cross_val_predict(log_reg, X_test, y_test, cv=3, method='decision_function')\r\n",
    "y_test_pred = y_test_score > threshold_eq\r\n",
    "precision_score(y_test, y_test_pred)"
   ],
   "outputs": [
    {
     "output_type": "execute_result",
     "data": {
      "text/plain": [
       "0.9325842696629213"
      ]
     },
     "metadata": {},
     "execution_count": 246
    }
   ],
   "metadata": {}
  },
  {
   "cell_type": "code",
   "execution_count": 247,
   "source": [
    "recall_score(y_test, y_test_pred)"
   ],
   "outputs": [
    {
     "output_type": "execute_result",
     "data": {
      "text/plain": [
       "0.8829787234042553"
      ]
     },
     "metadata": {},
     "execution_count": 247
    }
   ],
   "metadata": {}
  },
  {
   "cell_type": "code",
   "execution_count": 248,
   "source": [
    "f1_score(y_test, y_test_pred)"
   ],
   "outputs": [
    {
     "output_type": "execute_result",
     "data": {
      "text/plain": [
       "0.907103825136612"
      ]
     },
     "metadata": {},
     "execution_count": 248
    }
   ],
   "metadata": {}
  },
  {
   "cell_type": "code",
   "execution_count": 249,
   "source": [
    "with open(r'D:\\PythonWorkspace\\gitrepo\\Lux_project\\model\\lrg_v2.pkl', 'wb') as f:\r\n",
    "    pickle.dump(log_reg, f)"
   ],
   "outputs": [],
   "metadata": {}
  },
  {
   "cell_type": "code",
   "execution_count": null,
   "source": [],
   "outputs": [],
   "metadata": {}
  }
 ],
 "metadata": {
  "orig_nbformat": 4,
  "language_info": {
   "name": "python",
   "version": "3.8.8",
   "mimetype": "text/x-python",
   "codemirror_mode": {
    "name": "ipython",
    "version": 3
   },
   "pygments_lexer": "ipython3",
   "nbconvert_exporter": "python",
   "file_extension": ".py"
  },
  "kernelspec": {
   "name": "python3",
   "display_name": "Python 3.8.8 64-bit ('base': conda)"
  },
  "interpreter": {
   "hash": "b3ba2566441a7c06988d0923437866b63cedc61552a5af99d1f4fb67d367b25f"
  }
 },
 "nbformat": 4,
 "nbformat_minor": 2
}